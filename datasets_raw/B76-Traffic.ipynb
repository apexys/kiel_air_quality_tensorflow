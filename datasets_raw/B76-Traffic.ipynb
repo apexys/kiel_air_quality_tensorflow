{
 "cells": [
  {
   "cell_type": "markdown",
   "metadata": {},
   "source": [
    "# Source\n",
    "\n",
    "Custom import of 2019 Bundesstraßen data from https://www.bast.de/DE/Verkehrstechnik/Fachthemen/v2-verkehrszaehlung/zaehl_node.html"
   ]
  },
  {
   "cell_type": "code",
   "execution_count": 1,
   "metadata": {},
   "outputs": [],
   "source": [
    "# read B76-Traffic.csv and save to ../datasets/B76-Traffic.csv\n",
    "import pandas as pd\n",
    "\n",
    "def read_csv(filepath):\n",
    "    import pandas as pd\n",
    "    df = pd.read_csv(filepath, sep=';', decimal=',', index_col=0, parse_dates=True)\n",
    "    return df\n",
    "\n",
    "def save_csv(df, filepath):\n",
    "    df.to_csv(filepath, sep=';', decimal=',')\n",
    "\n",
    "df = read_csv('B76-Traffic.csv')\n",
    "save_csv(df, '../datasets/B76-Traffic.csv')"
   ]
  }
 ],
 "metadata": {
  "interpreter": {
   "hash": "21b04b269d3888ae5371c7d51bca3c39ab56825f2cb8300390c48bd66afc6017"
  },
  "kernelspec": {
   "display_name": "Python 3.9.9 64-bit (windows store)",
   "language": "python",
   "name": "python3"
  },
  "language_info": {
   "codemirror_mode": {
    "name": "ipython",
    "version": 3
   },
   "file_extension": ".py",
   "mimetype": "text/x-python",
   "name": "python",
   "nbconvert_exporter": "python",
   "pygments_lexer": "ipython3",
   "version": "3.9.9"
  },
  "orig_nbformat": 4
 },
 "nbformat": 4,
 "nbformat_minor": 2
}
