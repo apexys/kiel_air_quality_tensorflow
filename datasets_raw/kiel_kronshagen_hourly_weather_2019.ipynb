{
 "cells": [
  {
   "cell_type": "markdown",
   "metadata": {},
   "source": [
    "# Source\n",
    "\n",
    "Station 2564 from https://opendata.dwd.de/climate_environment/CDC/observations_germany/climate/hourly/air_temperature/historical/ (same for precipitation and wind)"
   ]
  },
  {
   "cell_type": "code",
   "execution_count": 1,
   "metadata": {},
   "outputs": [],
   "source": [
    "# read kiel_kronshagen_hourly_weather_2019.csv and save to ../datasets/kiel_kronshagen_hourly_weather_2019.csv\n",
    "import pandas as pd\n",
    "\n",
    "def read_csv(filepath):\n",
    "    import pandas as pd\n",
    "    df = pd.read_csv(filepath, sep=';', decimal=',', index_col=0, parse_dates=True)\n",
    "    return df\n",
    "\n",
    "def save_csv(df, filepath):\n",
    "    df.to_csv(filepath, sep=';', decimal=',')\n",
    "\n",
    "df = read_csv('kiel_kronshagen_hourly_weather_2019.csv')\n",
    "save_csv(df, '../datasets/kiel_kronshagen_hourly_weather_2019.csv')"
   ]
  }
 ],
 "metadata": {
  "interpreter": {
   "hash": "21b04b269d3888ae5371c7d51bca3c39ab56825f2cb8300390c48bd66afc6017"
  },
  "kernelspec": {
   "display_name": "Python 3.9.9 64-bit (windows store)",
   "language": "python",
   "name": "python3"
  },
  "language_info": {
   "codemirror_mode": {
    "name": "ipython",
    "version": 3
   },
   "file_extension": ".py",
   "mimetype": "text/x-python",
   "name": "python",
   "nbconvert_exporter": "python",
   "pygments_lexer": "ipython3",
   "version": "3.9.9"
  },
  "orig_nbformat": 4
 },
 "nbformat": 4,
 "nbformat_minor": 2
}
