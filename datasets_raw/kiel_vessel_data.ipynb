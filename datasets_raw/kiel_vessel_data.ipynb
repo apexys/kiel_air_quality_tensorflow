{
 "cells": [
  {
   "cell_type": "markdown",
   "metadata": {},
   "source": [
    "# Source\n",
    "..."
   ]
  },
  {
   "cell_type": "code",
   "execution_count": 19,
   "metadata": {},
   "outputs": [
    {
     "data": {
      "text/html": [
       "<div>\n",
       "<style scoped>\n",
       "    .dataframe tbody tr th:only-of-type {\n",
       "        vertical-align: middle;\n",
       "    }\n",
       "\n",
       "    .dataframe tbody tr th {\n",
       "        vertical-align: top;\n",
       "    }\n",
       "\n",
       "    .dataframe thead th {\n",
       "        text-align: right;\n",
       "    }\n",
       "</style>\n",
       "<table border=\"1\" class=\"dataframe\">\n",
       "  <thead>\n",
       "    <tr style=\"text-align: right;\">\n",
       "      <th></th>\n",
       "    </tr>\n",
       "    <tr>\n",
       "      <th>Row,Number of vessels,Date,Hour</th>\n",
       "    </tr>\n",
       "  </thead>\n",
       "  <tbody>\n",
       "    <tr>\n",
       "      <th>0,6,2019-01-01,0</th>\n",
       "    </tr>\n",
       "    <tr>\n",
       "      <th>1,4,2019-01-01,1</th>\n",
       "    </tr>\n",
       "    <tr>\n",
       "      <th>2,2,2019-01-01,2</th>\n",
       "    </tr>\n",
       "    <tr>\n",
       "      <th>3,4,2019-01-01,3</th>\n",
       "    </tr>\n",
       "    <tr>\n",
       "      <th>4,3,2019-01-01,4</th>\n",
       "    </tr>\n",
       "  </tbody>\n",
       "</table>\n",
       "</div>"
      ],
      "text/plain": [
       "Empty DataFrame\n",
       "Columns: []\n",
       "Index: [0,6,2019-01-01,0, 1,4,2019-01-01,1, 2,2,2019-01-01,2, 3,4,2019-01-01,3, 4,3,2019-01-01,4]"
      ]
     },
     "execution_count": 19,
     "metadata": {},
     "output_type": "execute_result"
    }
   ],
   "source": [
    "# read kiel_vessel_data.csv and save to ../datasets/kiel_vessel_data.csv\n",
    "import pandas as pd\n",
    "\n",
    "def read_csv(filepath):\n",
    "    import pandas as pd\n",
    "    df = pd.read_csv(filepath, sep=';', decimal=',', index_col=0, parse_dates=True)\n",
    "    return df\n",
    "\n",
    "def save_csv(df, filepath):\n",
    "    df.to_csv(filepath, sep=';', decimal=',')\n",
    "\n",
    "df = read_csv('kiel_vessel_data.csv')\n",
    "save_csv(df, '../datasets/kiel_vessel_data.csv')\n",
    "\n",
    "df.head()"
   ]
  }
 ],
 "metadata": {
  "interpreter": {
   "hash": "21b04b269d3888ae5371c7d51bca3c39ab56825f2cb8300390c48bd66afc6017"
  },
  "kernelspec": {
   "display_name": "Python 3.9.9 64-bit (windows store)",
   "language": "python",
   "name": "python3"
  },
  "language_info": {
   "codemirror_mode": {
    "name": "ipython",
    "version": 3
   },
   "file_extension": ".py",
   "mimetype": "text/x-python",
   "name": "python",
   "nbconvert_exporter": "python",
   "pygments_lexer": "ipython3",
   "version": "3.9.9"
  },
  "orig_nbformat": 4
 },
 "nbformat": 4,
 "nbformat_minor": 2
}
