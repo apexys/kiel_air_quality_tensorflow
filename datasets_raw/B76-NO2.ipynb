{
 "cells": [
  {
   "cell_type": "markdown",
   "metadata": {},
   "source": [
    "# Source\n",
    "\n",
    "Custom import of NO2 Data from https://www.umweltbundesamt.de/daten/luft/luftdaten/luftqualitaet/eJzrWJSSuMrIwMhQ1xCILBeVZC4yNF6Ul7pgUXHJgsUpbkUISaPFKSH5yGpzq3gW5SY3Lc5JLDnt4HmDtZd_UcjinLz00w66R140MDAwAgA1-CJt"
   ]
  },
  {
   "cell_type": "markdown",
   "metadata": {},
   "source": [
    "# Export to `dataset` folder"
   ]
  },
  {
   "cell_type": "code",
   "execution_count": 21,
   "metadata": {},
   "outputs": [],
   "source": [
    "# read B76-NO2.csv and save to ../datasets/B76-NO2.csv\n",
    "import pandas as pd\n",
    "import numpy as np\n",
    "\n",
    "    \n",
    "df = pd.read_csv('B76-NO2.csv')\n",
    "df = df.dropna()\n",
    "\n",
    "# reduce every value in column rows by 1\n",
    "df['Hour'] = df['Hour'].astype(int) -1\n",
    "\n",
    "df = df[df['NO2-ug-per-m3'].astype(str) != \"-\"]\n",
    "\n",
    "df.to_csv('../datasets/B76-NO2.csv', index=False)\n"
   ]
  }
 ],
 "metadata": {
  "interpreter": {
   "hash": "21b04b269d3888ae5371c7d51bca3c39ab56825f2cb8300390c48bd66afc6017"
  },
  "kernelspec": {
   "display_name": "Python 3.9.9 64-bit (windows store)",
   "language": "python",
   "name": "python3"
  },
  "language_info": {
   "codemirror_mode": {
    "name": "ipython",
    "version": 3
   },
   "file_extension": ".py",
   "mimetype": "text/x-python",
   "name": "python",
   "nbconvert_exporter": "python",
   "pygments_lexer": "ipython3",
   "version": "3.9.9"
  },
  "orig_nbformat": 4
 },
 "nbformat": 4,
 "nbformat_minor": 2
}
