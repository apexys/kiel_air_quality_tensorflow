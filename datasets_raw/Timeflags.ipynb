{
 "cells": [
  {
   "cell_type": "markdown",
   "metadata": {},
   "source": [
    "# Dataset Creation"
   ]
  },
  {
   "cell_type": "code",
   "execution_count": 1,
   "metadata": {},
   "outputs": [],
   "source": [
    "import numpy as np\n",
    "import pandas as pd"
   ]
  },
  {
   "cell_type": "code",
   "execution_count": 2,
   "metadata": {},
   "outputs": [],
   "source": [
    "# define list of holidays\n",
    "# each holiday contains a start date [0] and an end date [0]\n",
    "# From https://www.kalenderpedia.de/ferien/ferien-schleswig-holstein-2019.html\n",
    "holidays = [['2018-12-21', '2019-01-04'],\n",
    "            ['2019-03-29', '2019-04-13'],\n",
    "            ['2019-04-04', '2019-04-18'],\n",
    "            ['2019-05-31', '2019-05-31'],\n",
    "            ['2019-07-01', '2019-08-10'],\n",
    "            ['2019-10-04', '2019-10-18'],\n",
    "            ['2019-12-23', '2020-01-06']]\n",
    "\n",
    "def is_school_holiday_in_schleswig_holstein(date_strftime):\n",
    "    #check iff given pd_timestamp is in holiday\n",
    "    # date_strftime is date.strftime('%Y-%m-%d')\n",
    "    for holiday in holidays:\n",
    "        if date_strftime >= holiday[0] and date_strftime <= holiday[1]:\n",
    "            return 1\n",
    "    return 0\n"
   ]
  },
  {
   "cell_type": "code",
   "execution_count": 9,
   "metadata": {},
   "outputs": [
    {
     "name": "stdout",
     "output_type": "stream",
     "text": [
      "         Date Hour Monday Tuesday Wednesday Thursday Friday Saturday Sunday  \\\n",
      "0  2018-12-21    0      0       0         0        0      1        0      0   \n",
      "1  2018-12-21    1      0       0         0        0      1        0      0   \n",
      "2  2018-12-21    2      0       0         0        0      1        0      0   \n",
      "3  2018-12-21    3      0       0         0        0      1        0      0   \n",
      "4  2018-12-21    4      0       0         0        0      1        0      0   \n",
      "\n",
      "  January  ... April May June July August September October November December  \\\n",
      "0       0  ...     0   0    0    0      0         0       0        0        1   \n",
      "1       0  ...     0   0    0    0      0         0       0        0        1   \n",
      "2       0  ...     0   0    0    0      0         0       0        0        1   \n",
      "3       0  ...     0   0    0    0      0         0       0        0        1   \n",
      "4       0  ...     0   0    0    0      0         0       0        0        1   \n",
      "\n",
      "  SchoolHoliday  \n",
      "0             1  \n",
      "1             1  \n",
      "2             1  \n",
      "3             1  \n",
      "4             1  \n",
      "\n",
      "[5 rows x 22 columns]\n"
     ]
    }
   ],
   "source": [
    "# make csv file with colums \"Date\", \"Hour\", \"Monday\", \"Tuesday\", \"Wednesday\", \"Thursday\", \"Friday\", \"Saturday\", \"Sunday\", \"Janurary\", \"February\", \"March\", \"April\", \"May\", \"June\", \"July\", \"August\", \"September\", \"October\", \"November\", \"December\", \"SchoolHoliday\"\n",
    "\n",
    "# make new pandas dataframe\n",
    "def generate_time_flags():\n",
    "    df = pd.DataFrame(columns=['Date', 'Hour', 'Monday', 'Tuesday', 'Wednesday', 'Thursday', 'Friday', 'Saturday', 'Sunday', 'January', 'February', 'March', 'April', 'May', 'June', 'July', 'August', 'September', 'October', 'November', 'December', 'SchoolHoliday'])\n",
    "    # get \"start_date\" from 2019-01-02 4 o'clock\n",
    "    start_date = pd.Timestamp('2018-12-21 00:00:00')\n",
    "    # end date 2019-12-31 22 o'clock\n",
    "    end_date = pd.Timestamp('2020-01-06 23:00:00')\n",
    "    # iterate from start date to end date\n",
    "    for date in pd.date_range(start_date, end_date, freq='H'):\n",
    "        # extract date in this format \"2019-01-02\"\n",
    "        date_str = date.strftime('%Y-%m-%d')\n",
    "        # extract hour in this format \"4\"\n",
    "        # interpret hour as int\n",
    "        hour_str = int(date.strftime('%H'))\n",
    "        # \"monday\" is 1 if date is monday, 0 otherwise\n",
    "        monday = int(date.strftime('%w') == '1')\n",
    "        # \"tuesday\" is 1 if date is tuesday, 0 otherwise\n",
    "        tuesday = int(date.strftime('%w') == '2')\n",
    "        # \"wednesday\" is 1 if date is wednesday, 0 otherwise\n",
    "        wednesday = int(date.strftime('%w') == '3')\n",
    "        # \"thursday\" is 1 if date is thursday, 0 otherwise\n",
    "        thursday = int(date.strftime('%w') == '4')\n",
    "        # \"friday\" is 1 if date is friday, 0 otherwise\n",
    "        friday = int(date.strftime('%w') == '5')\n",
    "        # \"saturday\" is 1 if date is saturday, 0 otherwise\n",
    "        saturday = int(date.strftime('%w') == '6')\n",
    "        # \"sunday\" is 1 if date is sunday, 0 otherwise\n",
    "        sunday = int(date.strftime('%w') == '0')\n",
    "        # \"january\" is 1 if date is january, 0 otherwise\n",
    "        january = int(date.strftime('%m') == '1')\n",
    "        # \"february\" is 1 if date is february, 0 otherwise\n",
    "        february = int(date.strftime('%m') == '2')\n",
    "        # \"march\" is 1 if date is march, 0 otherwise\n",
    "        march = int(date.strftime('%m') == '3')\n",
    "        # \"april\" is 1 if date is april, 0 otherwise\n",
    "        april = int(date.strftime('%m') == '4')\n",
    "        # \"may\" is 1 if date is may, 0 otherwise\n",
    "        may = int(date.strftime('%m') == '5')\n",
    "        # \"june\" is 1 if date is june, 0 otherwise\n",
    "        june = int(date.strftime('%m') == '6')\n",
    "        # \"july\" is 1 if date is july, 0 otherwise\n",
    "        july = int(date.strftime('%m') == '7')\n",
    "        # \"august\" is 1 if date is august, 0 otherwise\n",
    "        august = int(date.strftime('%m') == '8')\n",
    "        # \"september\" is 1 if date is september, 0 otherwise\n",
    "        september = int(date.strftime('%m') == '9')\n",
    "        # \"october\" is 1 if date is october, 0 otherwise\n",
    "        october = int(date.strftime('%m') == '10')\n",
    "        # \"november\" is 1 if date is november, 0 otherwise\n",
    "        november = int(date.strftime('%m') == '11')\n",
    "        # \"december\" is 1 if date is december, 0 otherwise\n",
    "        december = int(date.strftime('%m') == '12')\n",
    "        # \"school_holiday\" is 1 if date is in a school holiday, 0 otherwise\n",
    "        school_holiday = is_school_holiday_in_schleswig_holstein(date_str)\n",
    "        # add new row to dataframe\n",
    "        df = df.append({'Date': date_str, 'Hour': hour_str, 'Monday': monday, 'Tuesday': tuesday, 'Wednesday': wednesday, 'Thursday': thursday, 'Friday': friday, 'Saturday': saturday, 'Sunday': sunday, 'January': january, 'February': february,\n",
    "                        'March': march, 'April': april, 'May': may, 'June': june, 'July': july, 'August': august, 'September': september, 'October': october, 'November': november, 'December': december, 'SchoolHoliday': school_holiday}, ignore_index=True)\n",
    "    return df\n",
    "\n",
    "# generate prview\n",
    "df = generate_time_flags()\n",
    "print(df.head())\n"
   ]
  },
  {
   "cell_type": "markdown",
   "metadata": {},
   "source": [
    "# Copy Dataset to `datasets` folder\n"
   ]
  },
  {
   "cell_type": "code",
   "execution_count": 10,
   "metadata": {},
   "outputs": [],
   "source": [
    "df.to_csv('../datasets/Timeflags.csv', index=False)"
   ]
  }
 ],
 "metadata": {
  "interpreter": {
   "hash": "916dbcbb3f70747c44a77c7bcd40155683ae19c65e1c03b4aa3499c5328201f1"
  },
  "kernelspec": {
   "display_name": "Python 3.8.10 64-bit",
   "language": "python",
   "name": "python3"
  },
  "language_info": {
   "codemirror_mode": {
    "name": "ipython",
    "version": 3
   },
   "file_extension": ".py",
   "mimetype": "text/x-python",
   "name": "python",
   "nbconvert_exporter": "python",
   "pygments_lexer": "ipython3",
   "version": "3.9.9"
  },
  "orig_nbformat": 4
 },
 "nbformat": 4,
 "nbformat_minor": 2
}
