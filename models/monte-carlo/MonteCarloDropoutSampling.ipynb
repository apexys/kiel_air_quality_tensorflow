{
 "cells": [
  {
   "cell_type": "markdown",
   "id": "2fc0bd09-3f1f-4c52-b876-5b2ab4d7f632",
   "metadata": {},
   "source": [
    "# Monte-Carlo-Dropout-Sampling"
   ]
  },
  {
   "cell_type": "markdown",
   "id": "ef153993-6e22-45c8-8362-073656ad2c57",
   "metadata": {},
   "source": [
    "## Introduction\n",
    "\n",
    "Monte-Carlo-Dropout-Sampling as introduced by Gal & Ghahramani in [Dropout as a Bayesian Approximation: Representing Model Uncertainty in Deep Learning](https://arxiv.org/abs/1506.02142v4) is a way to model uncertainty in neural networks. The main idea is to use a neural network with a pattern of dense and dropout layers with high dropout probabilities to in effect train not one, but a whole forest of networks. Kendall & Cipolla in [Modelling Uncertainty in Deep Learning for Camera Relocalization](https://arxiv.org/abs/1509.05909) describe a practical way to use this for uncertainty estimation: by activating the dropout layers during multiple forward prediction passes, in effect the data passes through different versions of networks contained in the same model and statistical values such as the mean or the standard deviation can be derived from the outputs of the different passes."
   ]
  },
  {
   "cell_type": "markdown",
   "id": "d6ad6749-4224-4225-8523-d396b6c6d4f7",
   "metadata": {},
   "source": [
    "## Application\n",
    "\n",
    "The prediction of air quality from sparse factors such as the number of cars on a road or the wind speed is difficult. Oftentimes, factors that look relevant are not and vice versa. Uncertainty prediction makes it possible for us to explain the learned space of a model and to see which combinations of input parameters cause the model to become more precise and which cause predictions to become less reliable. This of course can be very valuable, for example, we could theoretically find out that our NO2-sensor malfunctions when temperatures fall below freezing by looking at the uncertainty values over the temperature range and could then discard these rows from our dataset or replace the sensor."
   ]
  },
  {
   "cell_type": "markdown",
   "id": "6f106405-96dd-4f5c-b95e-878ea8793dd3",
   "metadata": {},
   "source": [
    "## Implementation"
   ]
  },
  {
   "cell_type": "markdown",
   "id": "e019efbc-e177-47ff-a10d-603e1c0c4c5e",
   "metadata": {},
   "source": [
    "Lets first set up tensorflow and import our dataset"
   ]
  },
  {
   "cell_type": "code",
   "execution_count": 1,
   "id": "a090d46b-5644-47a4-ab8a-c5bdef101b29",
   "metadata": {},
   "outputs": [
    {
     "name": "stdout",
     "output_type": "stream",
     "text": [
      "TensorFlow version: 2.3.0\n"
     ]
    }
   ],
   "source": [
    "import pandas as pd\n",
    "import tensorflow as tf\n",
    "import numpy as np\n",
    "print(\"TensorFlow version:\", tf.__version__)"
   ]
  },
  {
   "cell_type": "code",
   "execution_count": 2,
   "id": "9d614a4b-1bf3-4153-af06-c8f840e1f710",
   "metadata": {},
   "outputs": [
    {
     "data": {
      "text/html": [
       "<div>\n",
       "<style scoped>\n",
       "    .dataframe tbody tr th:only-of-type {\n",
       "        vertical-align: middle;\n",
       "    }\n",
       "\n",
       "    .dataframe tbody tr th {\n",
       "        vertical-align: top;\n",
       "    }\n",
       "\n",
       "    .dataframe thead th {\n",
       "        text-align: right;\n",
       "    }\n",
       "</style>\n",
       "<table border=\"1\" class=\"dataframe\">\n",
       "  <thead>\n",
       "    <tr style=\"text-align: right;\">\n",
       "      <th></th>\n",
       "      <th>NO2-ug-per-m3</th>\n",
       "      <th>Cars-Direction-1</th>\n",
       "      <th>Cars-Direction-2</th>\n",
       "      <th>Cars-Total</th>\n",
       "      <th>Day-Of-Week</th>\n",
       "      <th>Monday</th>\n",
       "      <th>Tuesday</th>\n",
       "      <th>Wednesday</th>\n",
       "      <th>Thursday</th>\n",
       "      <th>Friday</th>\n",
       "      <th>...</th>\n",
       "      <th>wind_meters_per_second</th>\n",
       "      <th>rain_millimeters</th>\n",
       "      <th>did_it_rain</th>\n",
       "      <th>air_temp_deg_c</th>\n",
       "      <th>relative_humidity_percent</th>\n",
       "      <th>e5</th>\n",
       "      <th>e10</th>\n",
       "      <th>diesel</th>\n",
       "      <th>Number of vessels</th>\n",
       "      <th>DateTime</th>\n",
       "    </tr>\n",
       "    <tr>\n",
       "      <th>DateTime</th>\n",
       "      <th></th>\n",
       "      <th></th>\n",
       "      <th></th>\n",
       "      <th></th>\n",
       "      <th></th>\n",
       "      <th></th>\n",
       "      <th></th>\n",
       "      <th></th>\n",
       "      <th></th>\n",
       "      <th></th>\n",
       "      <th></th>\n",
       "      <th></th>\n",
       "      <th></th>\n",
       "      <th></th>\n",
       "      <th></th>\n",
       "      <th></th>\n",
       "      <th></th>\n",
       "      <th></th>\n",
       "      <th></th>\n",
       "      <th></th>\n",
       "      <th></th>\n",
       "    </tr>\n",
       "  </thead>\n",
       "  <tbody>\n",
       "    <tr>\n",
       "      <th>2019-01-01 04:00:00</th>\n",
       "      <td>8</td>\n",
       "      <td>60</td>\n",
       "      <td>44</td>\n",
       "      <td>104</td>\n",
       "      <td>2</td>\n",
       "      <td>0</td>\n",
       "      <td>1</td>\n",
       "      <td>0</td>\n",
       "      <td>0</td>\n",
       "      <td>0</td>\n",
       "      <td>...</td>\n",
       "      <td>8.2</td>\n",
       "      <td>0.2</td>\n",
       "      <td>1</td>\n",
       "      <td>7.8</td>\n",
       "      <td>94.0</td>\n",
       "      <td>1.409000</td>\n",
       "      <td>1.389000</td>\n",
       "      <td>1.289000</td>\n",
       "      <td>3</td>\n",
       "      <td>2019-01-01 04:00:00</td>\n",
       "    </tr>\n",
       "    <tr>\n",
       "      <th>2019-01-01 05:00:00</th>\n",
       "      <td>5</td>\n",
       "      <td>44</td>\n",
       "      <td>33</td>\n",
       "      <td>77</td>\n",
       "      <td>2</td>\n",
       "      <td>0</td>\n",
       "      <td>1</td>\n",
       "      <td>0</td>\n",
       "      <td>0</td>\n",
       "      <td>0</td>\n",
       "      <td>...</td>\n",
       "      <td>9.1</td>\n",
       "      <td>0.0</td>\n",
       "      <td>1</td>\n",
       "      <td>8.1</td>\n",
       "      <td>94.0</td>\n",
       "      <td>1.412924</td>\n",
       "      <td>1.387101</td>\n",
       "      <td>1.272671</td>\n",
       "      <td>5</td>\n",
       "      <td>2019-01-01 05:00:00</td>\n",
       "    </tr>\n",
       "    <tr>\n",
       "      <th>2019-01-01 06:00:00</th>\n",
       "      <td>5</td>\n",
       "      <td>46</td>\n",
       "      <td>43</td>\n",
       "      <td>89</td>\n",
       "      <td>2</td>\n",
       "      <td>0</td>\n",
       "      <td>1</td>\n",
       "      <td>0</td>\n",
       "      <td>0</td>\n",
       "      <td>0</td>\n",
       "      <td>...</td>\n",
       "      <td>9.8</td>\n",
       "      <td>0.1</td>\n",
       "      <td>1</td>\n",
       "      <td>8.2</td>\n",
       "      <td>83.0</td>\n",
       "      <td>1.389000</td>\n",
       "      <td>1.365522</td>\n",
       "      <td>1.241174</td>\n",
       "      <td>4</td>\n",
       "      <td>2019-01-01 06:00:00</td>\n",
       "    </tr>\n",
       "    <tr>\n",
       "      <th>2019-01-01 07:00:00</th>\n",
       "      <td>5</td>\n",
       "      <td>39</td>\n",
       "      <td>41</td>\n",
       "      <td>80</td>\n",
       "      <td>2</td>\n",
       "      <td>0</td>\n",
       "      <td>1</td>\n",
       "      <td>0</td>\n",
       "      <td>0</td>\n",
       "      <td>0</td>\n",
       "      <td>...</td>\n",
       "      <td>9.9</td>\n",
       "      <td>0.0</td>\n",
       "      <td>0</td>\n",
       "      <td>7.0</td>\n",
       "      <td>75.0</td>\n",
       "      <td>1.377876</td>\n",
       "      <td>1.353382</td>\n",
       "      <td>1.229562</td>\n",
       "      <td>3</td>\n",
       "      <td>2019-01-01 07:00:00</td>\n",
       "    </tr>\n",
       "    <tr>\n",
       "      <th>2019-01-01 08:00:00</th>\n",
       "      <td>6</td>\n",
       "      <td>26</td>\n",
       "      <td>35</td>\n",
       "      <td>61</td>\n",
       "      <td>2</td>\n",
       "      <td>0</td>\n",
       "      <td>1</td>\n",
       "      <td>0</td>\n",
       "      <td>0</td>\n",
       "      <td>0</td>\n",
       "      <td>...</td>\n",
       "      <td>9.8</td>\n",
       "      <td>0.0</td>\n",
       "      <td>0</td>\n",
       "      <td>7.0</td>\n",
       "      <td>73.0</td>\n",
       "      <td>1.361500</td>\n",
       "      <td>1.336188</td>\n",
       "      <td>1.205406</td>\n",
       "      <td>3</td>\n",
       "      <td>2019-01-01 08:00:00</td>\n",
       "    </tr>\n",
       "  </tbody>\n",
       "</table>\n",
       "<p>5 rows × 35 columns</p>\n",
       "</div>"
      ],
      "text/plain": [
       "                     NO2-ug-per-m3  Cars-Direction-1  Cars-Direction-2  \\\n",
       "DateTime                                                                 \n",
       "2019-01-01 04:00:00              8                60                44   \n",
       "2019-01-01 05:00:00              5                44                33   \n",
       "2019-01-01 06:00:00              5                46                43   \n",
       "2019-01-01 07:00:00              5                39                41   \n",
       "2019-01-01 08:00:00              6                26                35   \n",
       "\n",
       "                     Cars-Total  Day-Of-Week  Monday  Tuesday  Wednesday  \\\n",
       "DateTime                                                                   \n",
       "2019-01-01 04:00:00         104            2       0        1          0   \n",
       "2019-01-01 05:00:00          77            2       0        1          0   \n",
       "2019-01-01 06:00:00          89            2       0        1          0   \n",
       "2019-01-01 07:00:00          80            2       0        1          0   \n",
       "2019-01-01 08:00:00          61            2       0        1          0   \n",
       "\n",
       "                     Thursday  Friday  ...  wind_meters_per_second  \\\n",
       "DateTime                               ...                           \n",
       "2019-01-01 04:00:00         0       0  ...                     8.2   \n",
       "2019-01-01 05:00:00         0       0  ...                     9.1   \n",
       "2019-01-01 06:00:00         0       0  ...                     9.8   \n",
       "2019-01-01 07:00:00         0       0  ...                     9.9   \n",
       "2019-01-01 08:00:00         0       0  ...                     9.8   \n",
       "\n",
       "                     rain_millimeters  did_it_rain  air_temp_deg_c  \\\n",
       "DateTime                                                             \n",
       "2019-01-01 04:00:00               0.2            1             7.8   \n",
       "2019-01-01 05:00:00               0.0            1             8.1   \n",
       "2019-01-01 06:00:00               0.1            1             8.2   \n",
       "2019-01-01 07:00:00               0.0            0             7.0   \n",
       "2019-01-01 08:00:00               0.0            0             7.0   \n",
       "\n",
       "                     relative_humidity_percent        e5       e10    diesel  \\\n",
       "DateTime                                                                       \n",
       "2019-01-01 04:00:00                       94.0  1.409000  1.389000  1.289000   \n",
       "2019-01-01 05:00:00                       94.0  1.412924  1.387101  1.272671   \n",
       "2019-01-01 06:00:00                       83.0  1.389000  1.365522  1.241174   \n",
       "2019-01-01 07:00:00                       75.0  1.377876  1.353382  1.229562   \n",
       "2019-01-01 08:00:00                       73.0  1.361500  1.336188  1.205406   \n",
       "\n",
       "                     Number of vessels            DateTime  \n",
       "DateTime                                                    \n",
       "2019-01-01 04:00:00                  3 2019-01-01 04:00:00  \n",
       "2019-01-01 05:00:00                  5 2019-01-01 05:00:00  \n",
       "2019-01-01 06:00:00                  4 2019-01-01 06:00:00  \n",
       "2019-01-01 07:00:00                  3 2019-01-01 07:00:00  \n",
       "2019-01-01 08:00:00                  3 2019-01-01 08:00:00  \n",
       "\n",
       "[5 rows x 35 columns]"
      ]
     },
     "execution_count": 2,
     "metadata": {},
     "output_type": "execute_result"
    }
   ],
   "source": [
    "data = pd.read_csv(\"../../datasets/all.csv\")\n",
    "# convert dates\n",
    "data[\"Hour\"] = data[\"Hour\"].astype(\"str\")\n",
    "data[\"DateTime\"] = pd.to_datetime(data[\"Date\"] + \" \" + data[\"Hour\"] + \":00:00\")\n",
    "del data[\"Hour\"]\n",
    "del data[\"Date\"]\n",
    "# set datetime index\n",
    "data.index = pd.DatetimeIndex(data.DateTime)\n",
    "# fix no2 col\n",
    "data = data[data['NO2-ug-per-m3'].apply(lambda x: str(x).isnumeric())]\n",
    "data[\"NO2-ug-per-m3\"] = data[\"NO2-ug-per-m3\"].astype(\"int\")\n",
    "# fix temp col\n",
    "data = data[data[\"air_temp_deg_c\"] > -500]\n",
    "#remove school holidays\n",
    "#data = data.drop([\"SchoolHoliday\", \"Monday\", \"Tuesday\", 'Wednesday', 'Thursday', 'Friday', 'Saturday', 'Sunday', 'Janurary', 'February', 'March', 'April', 'May', 'June', 'July', 'August', 'September', 'October', 'November', 'December'],axis=1)\n",
    "data = data.dropna()\n",
    "data.head()"
   ]
  },
  {
   "cell_type": "code",
   "execution_count": 3,
   "id": "479ca8d3-998b-4801-a1ad-176cda2e2042",
   "metadata": {},
   "outputs": [
    {
     "data": {
      "text/plain": [
       "(Index(['NO2-ug-per-m3', 'Cars-Direction-1', 'Cars-Direction-2', 'Cars-Total',\n",
       "        'Day-Of-Week', 'Monday', 'Tuesday', 'Wednesday', 'Thursday', 'Friday',\n",
       "        'Saturday', 'Sunday', 'January', 'February', 'March', 'April', 'May',\n",
       "        'June', 'July', 'August', 'September', 'October', 'November',\n",
       "        'December', 'SchoolHoliday', 'wind_meters_per_second',\n",
       "        'rain_millimeters', 'did_it_rain', 'air_temp_deg_c',\n",
       "        'relative_humidity_percent', 'e5', 'e10', 'diesel', 'Number of vessels',\n",
       "        'DateTime'],\n",
       "       dtype='object'),\n",
       " (6515, 35))"
      ]
     },
     "execution_count": 3,
     "metadata": {},
     "output_type": "execute_result"
    }
   ],
   "source": [
    "(data.columns, data.shape)"
   ]
  },
  {
   "cell_type": "markdown",
   "id": "bd6d7a5e-efca-4c93-8778-3b1a96c6091f",
   "metadata": {},
   "source": [
    "Lets split the data into a training and a validation set. Since DateTime as a column is already represented via the one-hot encodings, we discard it"
   ]
  },
  {
   "cell_type": "code",
   "execution_count": 4,
   "id": "94ceed53-18de-4a73-b8a3-7b2f8b7abbd9",
   "metadata": {},
   "outputs": [],
   "source": [
    "training = data.sample(frac = 0.75)\n",
    "validation = data.drop(training.index)\n",
    "\n",
    "training_x = training.drop([\"NO2-ug-per-m3\", \"DateTime\"], axis=1).to_numpy(dtype=float)\n",
    "training_y = training[\"NO2-ug-per-m3\"].to_numpy(dtype=float)\n",
    "\n",
    "validation_x = validation.drop([\"NO2-ug-per-m3\", \"DateTime\"], axis=1).to_numpy(dtype=float)\n",
    "validation_y = validation[\"NO2-ug-per-m3\"].to_numpy(dtype=float)\n"
   ]
  },
  {
   "cell_type": "markdown",
   "id": "7b717248-a866-4fd7-abd0-802d2dd8186e",
   "metadata": {},
   "source": [
    "We can now define our model"
   ]
  },
  {
   "cell_type": "code",
   "execution_count": 5,
   "id": "5c73fad5-5a0d-4106-b5e4-61fdf406dee1",
   "metadata": {},
   "outputs": [],
   "source": [
    "from tensorflow.keras.layers import Dense, Dropout, InputLayer\n",
    "from tensorflow.keras import Model\n",
    "model = tf.keras.Sequential()\n",
    "model.add(InputLayer(input_shape=(33,)))\n",
    "for i in range(16):\n",
    "    model.add(Dense(16, activation=\"relu\"))\n",
    "    model.add(Dropout(0.1))\n",
    "model.add(Dense(1, activation=\"relu\"))"
   ]
  },
  {
   "cell_type": "markdown",
   "id": "20cb0ba5-3e3d-481d-9c9d-37118813473f",
   "metadata": {},
   "source": [
    "and train it for 100 epochs. The exact settings don't matter to much for our case, but we would like it to have a good grasp of the data while not being overfitted"
   ]
  },
  {
   "cell_type": "code",
   "execution_count": 6,
   "id": "3ca7fff3-8e72-4aa8-a61c-783abdc441e8",
   "metadata": {},
   "outputs": [
    {
     "data": {
      "text/plain": [
       "<tensorflow.python.keras.callbacks.History at 0x23b955c9370>"
      ]
     },
     "execution_count": 6,
     "metadata": {},
     "output_type": "execute_result"
    }
   ],
   "source": [
    "model.compile(optimizer='adam', loss='mse', metrics=['mean_absolute_error'])\n",
    "model.fit(training_x, training_y, validation_data=(validation_x, validation_y), batch_size=16, epochs=100, verbose=0)"
   ]
  },
  {
   "cell_type": "markdown",
   "id": "689d5634-2ef2-4fb9-a731-ed2189ad9c5e",
   "metadata": {},
   "source": [
    "Our forward sampling function will work by running the same input data through the model multiple times with different dropout nodes active. We can then derive a mean and a standard deviation"
   ]
  },
  {
   "cell_type": "code",
   "execution_count": 7,
   "id": "a9177f41-ef09-423d-a9f2-7e06b732a850",
   "metadata": {},
   "outputs": [],
   "source": [
    "def monte_carlo_sample(model, data, iterations=8):\n",
    "    datas = []\n",
    "    for i in range(iterations):\n",
    "        datas.append(model(np.array([test_data]), training=True).numpy()[0])\n",
    "    datas = np.array(datas)\n",
    "    return (np.mean(datas), np.std(datas))"
   ]
  },
  {
   "cell_type": "code",
   "execution_count": 8,
   "id": "6dc4d6d1-afe6-4785-a2d1-0f71b954cf76",
   "metadata": {},
   "outputs": [],
   "source": [
    "test_data = validation_x[0,:]"
   ]
  },
  {
   "cell_type": "code",
   "execution_count": 9,
   "id": "d43a06eb-d39a-4314-b9fe-3f692d315f12",
   "metadata": {},
   "outputs": [
    {
     "data": {
      "text/plain": [
       "(19.118595, 1.089471)"
      ]
     },
     "execution_count": 9,
     "metadata": {},
     "output_type": "execute_result"
    }
   ],
   "source": [
    "monte_carlo_sample(model, test_data, iterations=8)"
   ]
  },
  {
   "cell_type": "markdown",
   "id": "c8bb6083-7f00-420d-a76c-48e97aadc1a8",
   "metadata": {},
   "source": [
    "as you can see, for the first entry in our data, the model predicts an NO2 value of 19µg/m³ with one standard deviation being about 1."
   ]
  },
  {
   "cell_type": "markdown",
   "id": "ce0295bd-7a78-40b8-b18d-4c593cdf6b3e",
   "metadata": {},
   "source": [
    "We can now iterate through all rows of our validation dataset and evaluate the model on them. Let's focus on the predictions as well as their difference to the real data"
   ]
  },
  {
   "cell_type": "code",
   "execution_count": 10,
   "id": "06e345b8-eabe-47d9-892c-8f80a5a67d71",
   "metadata": {},
   "outputs": [
    {
     "data": {
      "text/html": [
       "<div>\n",
       "<style scoped>\n",
       "    .dataframe tbody tr th:only-of-type {\n",
       "        vertical-align: middle;\n",
       "    }\n",
       "\n",
       "    .dataframe tbody tr th {\n",
       "        vertical-align: top;\n",
       "    }\n",
       "\n",
       "    .dataframe thead th {\n",
       "        text-align: right;\n",
       "    }\n",
       "</style>\n",
       "<table border=\"1\" class=\"dataframe\">\n",
       "  <thead>\n",
       "    <tr style=\"text-align: right;\">\n",
       "      <th></th>\n",
       "      <th>NO2-ug-per-m3</th>\n",
       "      <th>Cars-Direction-1</th>\n",
       "      <th>Cars-Direction-2</th>\n",
       "      <th>Cars-Total</th>\n",
       "      <th>Day-Of-Week</th>\n",
       "      <th>Monday</th>\n",
       "      <th>Tuesday</th>\n",
       "      <th>Wednesday</th>\n",
       "      <th>Thursday</th>\n",
       "      <th>Friday</th>\n",
       "      <th>...</th>\n",
       "      <th>air_temp_deg_c</th>\n",
       "      <th>relative_humidity_percent</th>\n",
       "      <th>e5</th>\n",
       "      <th>e10</th>\n",
       "      <th>diesel</th>\n",
       "      <th>Number of vessels</th>\n",
       "      <th>DateTime</th>\n",
       "      <th>predicted_no2</th>\n",
       "      <th>prediction_stdev</th>\n",
       "      <th>delta_mean_real_no2</th>\n",
       "    </tr>\n",
       "  </thead>\n",
       "  <tbody>\n",
       "    <tr>\n",
       "      <th>2019-01-01 05:00:00</th>\n",
       "      <td>5</td>\n",
       "      <td>44</td>\n",
       "      <td>33</td>\n",
       "      <td>77</td>\n",
       "      <td>2</td>\n",
       "      <td>0</td>\n",
       "      <td>1</td>\n",
       "      <td>0</td>\n",
       "      <td>0</td>\n",
       "      <td>0</td>\n",
       "      <td>...</td>\n",
       "      <td>8.1</td>\n",
       "      <td>94.0</td>\n",
       "      <td>1.412924</td>\n",
       "      <td>1.387101</td>\n",
       "      <td>1.272671</td>\n",
       "      <td>5</td>\n",
       "      <td>2019-01-01 05:00:00</td>\n",
       "      <td>23.384449</td>\n",
       "      <td>2.012048</td>\n",
       "      <td>18.384449</td>\n",
       "    </tr>\n",
       "    <tr>\n",
       "      <th>2019-01-01 09:00:00</th>\n",
       "      <td>6</td>\n",
       "      <td>38</td>\n",
       "      <td>19</td>\n",
       "      <td>57</td>\n",
       "      <td>2</td>\n",
       "      <td>0</td>\n",
       "      <td>1</td>\n",
       "      <td>0</td>\n",
       "      <td>0</td>\n",
       "      <td>0</td>\n",
       "      <td>...</td>\n",
       "      <td>7.0</td>\n",
       "      <td>75.0</td>\n",
       "      <td>1.341857</td>\n",
       "      <td>1.316143</td>\n",
       "      <td>1.181857</td>\n",
       "      <td>5</td>\n",
       "      <td>2019-01-01 09:00:00</td>\n",
       "      <td>21.455992</td>\n",
       "      <td>1.199092</td>\n",
       "      <td>15.455992</td>\n",
       "    </tr>\n",
       "    <tr>\n",
       "      <th>2019-01-01 11:00:00</th>\n",
       "      <td>16</td>\n",
       "      <td>112</td>\n",
       "      <td>111</td>\n",
       "      <td>223</td>\n",
       "      <td>2</td>\n",
       "      <td>0</td>\n",
       "      <td>1</td>\n",
       "      <td>0</td>\n",
       "      <td>0</td>\n",
       "      <td>0</td>\n",
       "      <td>...</td>\n",
       "      <td>7.1</td>\n",
       "      <td>69.0</td>\n",
       "      <td>1.373608</td>\n",
       "      <td>1.346941</td>\n",
       "      <td>1.209294</td>\n",
       "      <td>4</td>\n",
       "      <td>2019-01-01 11:00:00</td>\n",
       "      <td>21.838177</td>\n",
       "      <td>1.996621</td>\n",
       "      <td>5.838177</td>\n",
       "    </tr>\n",
       "    <tr>\n",
       "      <th>2019-01-02 09:00:00</th>\n",
       "      <td>73</td>\n",
       "      <td>359</td>\n",
       "      <td>277</td>\n",
       "      <td>636</td>\n",
       "      <td>3</td>\n",
       "      <td>0</td>\n",
       "      <td>0</td>\n",
       "      <td>1</td>\n",
       "      <td>0</td>\n",
       "      <td>0</td>\n",
       "      <td>...</td>\n",
       "      <td>3.7</td>\n",
       "      <td>54.0</td>\n",
       "      <td>1.366204</td>\n",
       "      <td>1.340290</td>\n",
       "      <td>1.217710</td>\n",
       "      <td>6</td>\n",
       "      <td>2019-01-02 09:00:00</td>\n",
       "      <td>22.170139</td>\n",
       "      <td>2.073988</td>\n",
       "      <td>50.829861</td>\n",
       "    </tr>\n",
       "    <tr>\n",
       "      <th>2019-01-02 20:00:00</th>\n",
       "      <td>86</td>\n",
       "      <td>165</td>\n",
       "      <td>212</td>\n",
       "      <td>377</td>\n",
       "      <td>3</td>\n",
       "      <td>0</td>\n",
       "      <td>0</td>\n",
       "      <td>1</td>\n",
       "      <td>0</td>\n",
       "      <td>0</td>\n",
       "      <td>...</td>\n",
       "      <td>-0.2</td>\n",
       "      <td>72.0</td>\n",
       "      <td>1.274000</td>\n",
       "      <td>1.246500</td>\n",
       "      <td>1.151500</td>\n",
       "      <td>1</td>\n",
       "      <td>2019-01-02 20:00:00</td>\n",
       "      <td>22.651161</td>\n",
       "      <td>1.806367</td>\n",
       "      <td>63.348839</td>\n",
       "    </tr>\n",
       "  </tbody>\n",
       "</table>\n",
       "<p>5 rows × 38 columns</p>\n",
       "</div>"
      ],
      "text/plain": [
       "                     NO2-ug-per-m3  Cars-Direction-1  Cars-Direction-2  \\\n",
       "2019-01-01 05:00:00              5                44                33   \n",
       "2019-01-01 09:00:00              6                38                19   \n",
       "2019-01-01 11:00:00             16               112               111   \n",
       "2019-01-02 09:00:00             73               359               277   \n",
       "2019-01-02 20:00:00             86               165               212   \n",
       "\n",
       "                     Cars-Total  Day-Of-Week  Monday  Tuesday  Wednesday  \\\n",
       "2019-01-01 05:00:00          77            2       0        1          0   \n",
       "2019-01-01 09:00:00          57            2       0        1          0   \n",
       "2019-01-01 11:00:00         223            2       0        1          0   \n",
       "2019-01-02 09:00:00         636            3       0        0          1   \n",
       "2019-01-02 20:00:00         377            3       0        0          1   \n",
       "\n",
       "                     Thursday  Friday  ...  air_temp_deg_c  \\\n",
       "2019-01-01 05:00:00         0       0  ...             8.1   \n",
       "2019-01-01 09:00:00         0       0  ...             7.0   \n",
       "2019-01-01 11:00:00         0       0  ...             7.1   \n",
       "2019-01-02 09:00:00         0       0  ...             3.7   \n",
       "2019-01-02 20:00:00         0       0  ...            -0.2   \n",
       "\n",
       "                     relative_humidity_percent        e5       e10    diesel  \\\n",
       "2019-01-01 05:00:00                       94.0  1.412924  1.387101  1.272671   \n",
       "2019-01-01 09:00:00                       75.0  1.341857  1.316143  1.181857   \n",
       "2019-01-01 11:00:00                       69.0  1.373608  1.346941  1.209294   \n",
       "2019-01-02 09:00:00                       54.0  1.366204  1.340290  1.217710   \n",
       "2019-01-02 20:00:00                       72.0  1.274000  1.246500  1.151500   \n",
       "\n",
       "                     Number of vessels            DateTime  predicted_no2  \\\n",
       "2019-01-01 05:00:00                  5 2019-01-01 05:00:00      23.384449   \n",
       "2019-01-01 09:00:00                  5 2019-01-01 09:00:00      21.455992   \n",
       "2019-01-01 11:00:00                  4 2019-01-01 11:00:00      21.838177   \n",
       "2019-01-02 09:00:00                  6 2019-01-02 09:00:00      22.170139   \n",
       "2019-01-02 20:00:00                  1 2019-01-02 20:00:00      22.651161   \n",
       "\n",
       "                     prediction_stdev  delta_mean_real_no2  \n",
       "2019-01-01 05:00:00          2.012048            18.384449  \n",
       "2019-01-01 09:00:00          1.199092            15.455992  \n",
       "2019-01-01 11:00:00          1.996621             5.838177  \n",
       "2019-01-02 09:00:00          2.073988            50.829861  \n",
       "2019-01-02 20:00:00          1.806367            63.348839  \n",
       "\n",
       "[5 rows x 38 columns]"
      ]
     },
     "execution_count": 10,
     "metadata": {},
     "output_type": "execute_result"
    }
   ],
   "source": [
    "rows = []\n",
    "for (index, data) in validation.iterrows():\n",
    "    eval_data = data.copy()\n",
    "    sample_data = data.drop([\"NO2-ug-per-m3\", \"DateTime\"]).to_numpy()\n",
    "    (mean, std) = monte_carlo_sample(model, sample_data)\n",
    "    eval_data[\"predicted_no2\"] = mean\n",
    "    eval_data[\"prediction_stdev\"] = std\n",
    "    eval_data[\"delta_mean_real_no2\"] = abs(data[\"NO2-ug-per-m3\"] - mean)\n",
    "    rows.append(eval_data)\n",
    "evaluation = pd.DataFrame(rows)\n",
    "evaluation.head()"
   ]
  },
  {
   "cell_type": "markdown",
   "id": "afc99222-0d33-49aa-814c-d08db545c056",
   "metadata": {},
   "source": [
    "Dataframes are a bit hard to reason about, lets plot this"
   ]
  },
  {
   "cell_type": "code",
   "execution_count": 11,
   "id": "443a4fc1-425d-47a2-abb9-47f11fb959da",
   "metadata": {},
   "outputs": [],
   "source": [
    "import matplotlib.pyplot as plt"
   ]
  },
  {
   "cell_type": "code",
   "execution_count": 12,
   "id": "bf0f80a0-4024-4c38-806c-896b969d88d7",
   "metadata": {},
   "outputs": [
    {
     "data": {
      "image/png": "[encoded data removed]",
      "text/plain": [
       "<Figure size 432x288 with 2 Axes>"
      ]
     },
     "metadata": {
      "needs_background": "light"
     },
     "output_type": "display_data"
    }
   ],
   "source": [
    "plt.scatter(x=evaluation[\"predicted_no2\"], y=evaluation[\"delta_mean_real_no2\"], c=evaluation[\"prediction_stdev\"])\n",
    "plt.xlabel(\"Predicted NO2 (µg/m³)\")\n",
    "plt.ylabel(\"Δ Prediction-Reality\")\n",
    "cbar = plt.colorbar()\n",
    "cbar.ax.set_ylabel(\"Standard Deviation of Prediction\", rotation=90)\n",
    "plt.show()"
   ]
  },
  {
   "cell_type": "markdown",
   "id": "95f4e17f-9eca-4923-8412-35b5d23c2ece",
   "metadata": {},
   "source": [
    "As you can see, the quality of our predictions (as shown by how yellow the dots are) drops when the predicted values are larger. At the same time, the error of the prediction doesn't seem to be obviously influenced by the predicted value."
   ]
  },
  {
   "cell_type": "markdown",
   "id": "d87978e3-f71a-42d0-aa54-ff755943c417",
   "metadata": {},
   "source": [
    "Next, we will look at how the distribution of values in a single column influences uncertainty. This is of course by no means perfect, since correlations between columns can and probably will exist, but maybe we find something interesting."
   ]
  },
  {
   "cell_type": "markdown",
   "id": "f0b84310-ddd2-48e5-a076-6ff3156fb7dc",
   "metadata": {},
   "source": [
    "editors note: TODO. Also the model has probably just learnt the mean of the dataset. But thats for tomorrow. Here (https://arxiv.org/abs/1808.09432v1) is a paper that applies MCDS to RNNs."
   ]
  },
  {
   "cell_type": "code",
   "execution_count": 13,
   "id": "f412244b-fe13-494f-bafd-12fd8f0379dc",
   "metadata": {},
   "outputs": [
    {
     "name": "stdout",
     "output_type": "stream",
     "text": [
      "NO2-ug-per-m3\n",
      "Cars-Direction-1\n",
      "Cars-Direction-2\n",
      "Cars-Total\n",
      "Day-Of-Week\n",
      "Monday\n",
      "Tuesday\n",
      "Wednesday\n",
      "Thursday\n",
      "Friday\n",
      "Saturday\n",
      "Sunday\n",
      "January\n",
      "February\n",
      "March\n",
      "April\n",
      "May\n",
      "June\n",
      "July\n",
      "August\n",
      "September\n",
      "October\n",
      "November\n",
      "December\n",
      "SchoolHoliday\n",
      "wind_meters_per_second\n",
      "rain_millimeters\n",
      "did_it_rain\n",
      "air_temp_deg_c\n",
      "relative_humidity_percent\n",
      "e5\n",
      "e10\n",
      "diesel\n",
      "Number of vessels\n",
      "DateTime\n",
      "predicted_no2\n",
      "prediction_stdev\n",
      "delta_mean_real_no2\n"
     ]
    },
    {
     "data": {
      "text/plain": [
       "[<matplotlib.lines.Line2D at 0x23b9a164280>]"
      ]
     },
     "execution_count": 13,
     "metadata": {},
     "output_type": "execute_result"
    },
    {
     "data": {
      "image/png": "[encoded data removed]",
      "text/plain": [
       "<Figure size 432x288 with 38 Axes>"
      ]
     },
     "metadata": {
      "needs_background": "light"
     },
     "output_type": "display_data"
    }
   ],
   "source": [
    "fig, axs = plt.subplots(nrows=len(evaluation.columns))\n",
    "for col in evaluation.columns:\n",
    "    print(col)\n",
    "data = evaluation[[\"diesel\", \"prediction_stdev\"]].sort_values(by=\"diesel\")\n",
    "plt.plot(data[\"diesel\"], data[\"prediction_stdev\"])"
   ]
  }
 ],
 "metadata": {
  "kernelspec": {
   "display_name": "Python 3 (ipykernel)",
   "language": "python",
   "name": "python3"
  },
  "language_info": {
   "codemirror_mode": {
    "name": "ipython",
    "version": 3
   },
   "file_extension": ".py",
   "mimetype": "text/x-python",
   "name": "python",
   "nbconvert_exporter": "python",
   "pygments_lexer": "ipython3",
   "version": "3.8.12"
  }
 },
 "nbformat": 4,
 "nbformat_minor": 5
}
