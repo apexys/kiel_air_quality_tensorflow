{
 "cells": [
  {
   "cell_type": "code",
   "execution_count": 10,
   "metadata": {},
   "outputs": [
    {
     "name": "stdout",
     "output_type": "stream",
     "text": [
      "TensorFlow version: 2.7.0\n",
      "[]\n"
     ]
    }
   ],
   "source": [
    "import numpy as np\n",
    "import pandas as pd\n",
    "import tensorflow as tf\n",
    "from tensorflow.keras.layers import *\n",
    "from tensorflow.keras import *\n",
    "from tensorflow.keras.optimizers import Adam\n",
    "\n",
    "print(\"TensorFlow version:\", tf.__version__)\n",
    "import ctypes\n",
    "\n",
    "hllDll = ctypes.WinDLL(\"C:\\\\Program Files\\\\NVIDIA GPU Computing Toolkit\\\\CUDA\\\\v11.5\\\\bin\\\\cudart64_110.dll\")\n",
    "print(tf.config.list_physical_devices('GPU'))\n"
   ]
  },
  {
   "cell_type": "code",
   "execution_count": 7,
   "metadata": {},
   "outputs": [
    {
     "name": "stdout",
     "output_type": "stream",
     "text": [
      "   Hour  Monday  Tuesday  Wednesday  Thursday  Friday  Saturday  Sunday  \\\n",
      "0   4.0     0.0      1.0        0.0       0.0     0.0       0.0     0.0   \n",
      "1   5.0     0.0      1.0        0.0       0.0     0.0       0.0     0.0   \n",
      "2   6.0     0.0      1.0        0.0       0.0     0.0       0.0     0.0   \n",
      "3   7.0     0.0      1.0        0.0       0.0     0.0       0.0     0.0   \n",
      "4   8.0     0.0      1.0        0.0       0.0     0.0       0.0     0.0   \n",
      "\n",
      "   SchoolHoliday  Janurary  ...  June  July  August  September  October  \\\n",
      "0            1.0       0.0  ...   0.0   0.0     0.0        0.0      0.0   \n",
      "1            1.0       0.0  ...   0.0   0.0     0.0        0.0      0.0   \n",
      "2            1.0       0.0  ...   0.0   0.0     0.0        0.0      0.0   \n",
      "3            1.0       0.0  ...   0.0   0.0     0.0        0.0      0.0   \n",
      "4            1.0       0.0  ...   0.0   0.0     0.0        0.0      0.0   \n",
      "\n",
      "   November  December  Cars-Total    diesel  wind_meters_per_second  \n",
      "0       0.0       0.0       0.104  1.289000                    0.82  \n",
      "1       0.0       0.0       0.077  1.272671                    0.91  \n",
      "2       0.0       0.0       0.089  1.241174                    0.98  \n",
      "3       0.0       0.0       0.080  1.229562                    0.99  \n",
      "4       0.0       0.0       0.061  1.205406                    0.98  \n",
      "\n",
      "[5 rows x 24 columns]\n",
      "   NO2-ug-per-m3\n",
      "0            8.0\n",
      "1            5.0\n",
      "2            5.0\n",
      "3            5.0\n",
      "4            6.0\n"
     ]
    }
   ],
   "source": [
    "dataset = pd.read_csv(\"./../../datasets/All.csv\")\n",
    "\n",
    "X = pd.DataFrame()\n",
    "for col in [\"Hour\", \"Monday\", \"Tuesday\", \"Wednesday\", \"Thursday\", \"Friday\", \"Saturday\", \"Sunday\", \"SchoolHoliday\", \"Janurary\", \"February\", \"March\", \"April\", \"May\", \"June\", \"July\", \"August\", \"September\", \"October\", \"November\", \"December\", \"Cars-Total\", \"diesel\", \"wind_meters_per_second\"]:\n",
    "    X[col] = dataset[col].astype(float)\n",
    "\n",
    "X[\"Cars-Total\"] = X[\"Cars-Total\"] / 1000\n",
    "X[\"diesel\"] = X[\"diesel\"] / 1\n",
    "X[\"wind_meters_per_second\"] = X[\"wind_meters_per_second\"] / 10\n",
    "\n",
    "Y = pd.DataFrame()\n",
    "for col in [\"NO2-ug-per-m3\"]:\n",
    "    Y[col] = dataset[col].astype(float)\n",
    "\n",
    "print(X.head())\n",
    "print(Y.head())\n"
   ]
  },
  {
   "cell_type": "code",
   "execution_count": 12,
   "metadata": {},
   "outputs": [
    {
     "name": "stdout",
     "output_type": "stream",
     "text": [
      "Epoch 1/10\n",
      "522/522 [==============================] - 2s 2ms/step - loss: 2829.7825 - mean_absolute_error: 47.2374 - val_loss: 2371.0398 - val_mean_absolute_error: 43.1303\n",
      "Epoch 2/10\n",
      "522/522 [==============================] - 1s 2ms/step - loss: 2824.8767 - mean_absolute_error: 47.1848 - val_loss: 2370.2075 - val_mean_absolute_error: 43.1205\n",
      "Epoch 3/10\n",
      "522/522 [==============================] - 1s 2ms/step - loss: 2824.3635 - mean_absolute_error: 47.1794 - val_loss: 2369.9514 - val_mean_absolute_error: 43.1177\n",
      "Epoch 4/10\n",
      "522/522 [==============================] - 1s 2ms/step - loss: 2824.1760 - mean_absolute_error: 47.1773 - val_loss: 2369.8384 - val_mean_absolute_error: 43.1162\n",
      "Epoch 5/10\n",
      "522/522 [==============================] - 1s 2ms/step - loss: 2824.0820 - mean_absolute_error: 47.1765 - val_loss: 2369.7776 - val_mean_absolute_error: 43.1155\n",
      "Epoch 6/10\n",
      "522/522 [==============================] - 1s 2ms/step - loss: 2824.0371 - mean_absolute_error: 47.1761 - val_loss: 2369.7424 - val_mean_absolute_error: 43.1151\n",
      "Epoch 7/10\n",
      "522/522 [==============================] - 1s 2ms/step - loss: 2824.0137 - mean_absolute_error: 47.1752 - val_loss: 2369.7190 - val_mean_absolute_error: 43.1150\n",
      "Epoch 8/10\n",
      "522/522 [==============================] - 1s 2ms/step - loss: 2823.9768 - mean_absolute_error: 47.1752 - val_loss: 2369.7029 - val_mean_absolute_error: 43.1147\n",
      "Epoch 9/10\n",
      "522/522 [==============================] - 1s 2ms/step - loss: 2823.9565 - mean_absolute_error: 47.1750 - val_loss: 2369.6914 - val_mean_absolute_error: 43.1146\n",
      "Epoch 10/10\n",
      "522/522 [==============================] - 1s 2ms/step - loss: 2823.9451 - mean_absolute_error: 47.1749 - val_loss: 2369.6826 - val_mean_absolute_error: 43.1146\n"
     ]
    },
    {
     "ename": "NameError",
     "evalue": "name 'result' is not defined",
     "output_type": "error",
     "traceback": [
      "\u001b[1;31m---------------------------------------------------------------------------\u001b[0m",
      "\u001b[1;31mNameError\u001b[0m                                 Traceback (most recent call last)",
      "\u001b[1;32m~\\AppData\\Local\\Temp/ipykernel_14256/3792586594.py\u001b[0m in \u001b[0;36m<module>\u001b[1;34m\u001b[0m\n\u001b[0;32m     34\u001b[0m \u001b[1;31m# plot guesses\u001b[0m\u001b[1;33m\u001b[0m\u001b[1;33m\u001b[0m\u001b[0m\n\u001b[0;32m     35\u001b[0m \u001b[0mpredictions\u001b[0m \u001b[1;33m=\u001b[0m \u001b[0mmodel\u001b[0m\u001b[1;33m.\u001b[0m\u001b[0mpredict\u001b[0m\u001b[1;33m(\u001b[0m\u001b[0mX\u001b[0m\u001b[1;33m.\u001b[0m\u001b[0mto_numpy\u001b[0m\u001b[1;33m(\u001b[0m\u001b[1;33m)\u001b[0m\u001b[1;33m)\u001b[0m\u001b[1;33m\u001b[0m\u001b[1;33m\u001b[0m\u001b[0m\n\u001b[1;32m---> 36\u001b[1;33m \u001b[0mpredictions\u001b[0m \u001b[1;33m=\u001b[0m \u001b[0mnp\u001b[0m\u001b[1;33m.\u001b[0m\u001b[0mabs\u001b[0m\u001b[1;33m(\u001b[0m\u001b[0mresult\u001b[0m \u001b[1;33m-\u001b[0m \u001b[0mY\u001b[0m\u001b[1;33m.\u001b[0m\u001b[0mto_numpy\u001b[0m\u001b[1;33m(\u001b[0m\u001b[1;33m)\u001b[0m\u001b[1;33m)\u001b[0m \u001b[1;33m/\u001b[0m \u001b[0mY\u001b[0m\u001b[1;33m.\u001b[0m\u001b[0mto_numpy\u001b[0m\u001b[1;33m(\u001b[0m\u001b[1;33m)\u001b[0m\u001b[1;33m\u001b[0m\u001b[1;33m\u001b[0m\u001b[0m\n\u001b[0m\u001b[0;32m     37\u001b[0m \u001b[1;32mfor\u001b[0m \u001b[0mguesses\u001b[0m \u001b[1;32min\u001b[0m \u001b[0mresult\u001b[0m\u001b[1;33m[\u001b[0m\u001b[1;36m0\u001b[0m\u001b[1;33m,\u001b[0m \u001b[1;33m:\u001b[0m\u001b[1;33m]\u001b[0m\u001b[1;33m:\u001b[0m\u001b[1;33m\u001b[0m\u001b[1;33m\u001b[0m\u001b[0m\n\u001b[0;32m     38\u001b[0m     \u001b[0mguesses\u001b[0m \u001b[1;33m=\u001b[0m \u001b[0mnp\u001b[0m\u001b[1;33m.\u001b[0m\u001b[0msort\u001b[0m\u001b[1;33m(\u001b[0m\u001b[0mresult\u001b[0m\u001b[1;33m[\u001b[0m\u001b[1;33m:\u001b[0m\u001b[1;33m,\u001b[0m \u001b[1;36m0\u001b[0m\u001b[1;33m]\u001b[0m\u001b[1;33m)\u001b[0m\u001b[1;33m\u001b[0m\u001b[1;33m\u001b[0m\u001b[0m\n",
      "\u001b[1;31mNameError\u001b[0m: name 'result' is not defined"
     ]
    }
   ],
   "source": [
    "import matplotlib.pyplot as plt\n",
    "import scipy.stats\n",
    "\n",
    "hyper = {\n",
    "    \"input_dim\": X.shape[1],\n",
    "    \"output_dim\": Y.shape[1],\n",
    "    \"batch_size\": 10,\n",
    "    \"epochs\": 10,\n",
    "    \"learning_rate\": 0.001,\n",
    "    \"validation_split\": 0.2,\n",
    "}\n",
    "\n",
    "model = model = tf.keras.Sequential([\n",
    "    Dense(hyper[\"input_dim\"], activation='relu'),\n",
    "    Dense(100, activation='sigmoid'),\n",
    "    Dense(30, activation='sigmoid'),\n",
    "    Dense(10, activation='sigmoid'),\n",
    "    Dense(hyper[\"output_dim\"], activation='sigmoid')\n",
    "])\n",
    "\n",
    "model.compile(\n",
    "    optimizer=Adam(learning_rate=hyper[\"learning_rate\"]),\n",
    "    loss='mse',\n",
    "    metrics=['mean_absolute_error'])\n",
    "\n",
    "model.fit(\n",
    "    X.to_numpy(),\n",
    "    Y.to_numpy(),\n",
    "    batch_size=hyper[\"batch_size\"],\n",
    "    epochs=hyper[\"epochs\"],\n",
    "    validation_split=hyper[\"validation_split\"],\n",
    ")\n",
    "\n",
    "# plot guesses\n",
    "predictions = model.predict(X.to_numpy())\n",
    "predictions = np.abs(result - Y.to_numpy()) / Y.to_numpy()\n",
    "for guesses in result[0, :]:\n",
    "    guesses = np.sort(result[:, 0])\n",
    "    std = str(round(x[int(len(x) * 0.682)]*100, 1),)\n",
    "    plt.hist(x[x < 1], bins=100)\n",
    "    plt.title(\"68% of predictions are less than \"+std+\"% off\")\n",
    "    plt.xlabel(\"Deviation from the label\")\n",
    "    plt.show()\n",
    "\n",
    "\n"
   ]
  },
  {
   "cell_type": "markdown",
   "metadata": {},
   "source": [
    "# Results\n",
    "\n",
    "## Hour -> NO2\n",
    "|Layers|Learning Rate|Epochs|Batch|Split|Sigma 1|\n",
    "|---|---|---|---|---|---|\n",
    "||||||\n",
    "\n",
    "# Hour + Weekday -> NO2\n",
    "|Layers|Learning Rate|Epochs|Batch|Split|Sigma 1|\n",
    "|---|---|---|---|---|---|\n",
    "||||||\n",
    "\n",
    "# Hour + Weekday + Month + SchoolHoliday -> NO2\n",
    "|Layers                                     |Learning Rate  |Epochs |Batch  |Split      |Sigma 1  | Loss  |\n",
    "|---                                        |---            |---    |---    |---        |---        |---    |\n",
    "| X relu; 50 relu ; 10 relu ; Y relu        |0.0001         |1000   |100    |0.2        |51%  | 430   |\n",
    "| X relu; 50 relu ; 10 relu ; Y relu        |0.0005         |500    |100    |0.2        |51%  ||\n",
    "| X relu; 50 relu ; 5  relu ; Y relu        |0.0005         |1000   |100    |0.2        |51%  | 415   |\n",
    "| X relu; 50 relu ; 5  relu ; Y relu        |0.001          |1000   |100    |0.2        |51%  | 420   |\n",
    "| X relu; 100 relu ; 30 relu ; 10 relu; Y relu |0.0001      |100    |10     |0.2        |53%  | 423   |\n",
    "| X relu; 50 relu ; 10 relu ; Y relu        |0.0005         |1000   |350    |0.2        |54%  | 420   |\n",
    "| X relu; 50 relu ; 10 relu ; Y relu        |0.0003         |1000   |50     |0.2        |55%  | 420   |\n",
    "| X relu; 50 sigm ; 10 sigm ; Y relu        |0.0005         |500    |2      |0.2        |56%  ||\n",
    "| X relu; 30 relu ; 30 relu ; Y relu        |0.01           |20     |2      |0.2        |56%  ||\n",
    "| X relu; 50 relu ; Y relu                  |0.0003         |500    |100    |0.2        |57%  ||\n",
    "| X relu; 30 relu ; Y relu                  |0.0003         |500    |100    |0.2        |58%  ||\n",
    "| X relu; 30 relu ; Y relu                  |0.001          |200    |100    |0.2        |58%  ||\n",
    "| X relu; 30 relu ; 30 relu ; Y relu        |0.03           |20     |2      |0.2        |60%  ||\n",
    "| X relu; 30 relu ; 30 relu ; Y relu        |0.001          |20     |2      |0.2        |61%  ||\n",
    "| X relu; 30 relu ; 30 relu ; Y relu        |0.001          |20     |10     |0.2        |60%  ||\n",
    "| X relu; 30 sigm ; 30 sigm ; Y relu        |0.01           |20     |10     |0.2        |60%  ||\n",
    "\n",
    "# Hour + Weekday + Month + SchoolHoliday + Cars + WindSpeed + Diesel -> NO2\n",
    "|Layers                                             |Learning Rate  |Epochs |Batch  |Split      |Sigma 1  | Loss  | Comment   |\n",
    "|---                                                |---            |---    |---    |---        |---        |---    |---        |\n",
    "| X relu; 100 relu ; 30 relu ; 10 relu; Y relu      |0.001          |100    |10     |0.2        |36%  | 301   |Cras/1000 Wind/10 Diesel/2|\n",
    "| X relu; 100 relu ; 50 relu ; 20 relu; Y relu      |0.001          |100    |10     |0.2        |36%  | 301   |Cras/1000 Wind/10 Diesel/2|\n",
    "| X relu; 100 relu ; 30 relu ; 10 relu; Y relu      |0.001          |100    |10     |0.2        |36%  | 304   |Cras/2000 Wind/20 Diesel/2|\n",
    "| X relu; 100 relu ; 30 relu ; 10 relu; Y relu      |0.0007         |100    |10     |0.2        |36%  | 301   |Cras/1000 Wind/10 Diesel/2|\n",
    "| X relu; 100 relu ; 30 relu ; 10 relu; Y relu      |0.003          |100    |10     |0.2        |37%  | 313   |Cras/1000 Wind/10 Diesel/2|\n",
    "| X relu; 100 relu ; 30 relu ; 10 relu; Y relu      |0.0003         |200    |20     |0.2        |37%  | 295   |Cras/1000 Wind/10 Diesel/2|\n",
    "| X relu; 100 relu ; 30 relu ; 10 relu; Y relu      |0.0005         |100    |10     |0.2        |40%  | 295   |Cras/1000 Wind/10 Diesel/2|\n",
    "| X relu; 100 relu ; 30 relu ; 10 relu; Y relu      |0.003          |200    |20     |0.2        |40%  | 337   |Cras/1000 Wind/10 Diesel/2|\n",
    "| X relu; 100 relu ; 30 relu ; 10 relu; Y relu      |0.001          |100    |10     |0.2        |40%  | 353   ||\n",
    "| X relu; 100 relu ; 30 relu ; 10 relu; Y relu      |0.0001         |1000   |100    |0.2        |41%  | 348   ||\n",
    "| X relu; 20  relu ; 10 relu ; 5 relu; Y relu       |0.0002         |1000   |100    |0.2        |41%  | 347   ||\n",
    "| X relu; 50 relu ; 30 relu ; 10 relu; Y relu       |0.0001         |100    |5      |0.2        |41%  | 362   |Cras/1000 Wind/10 Diesel/2|\n",
    "| X relu; 100 relu ; 10 relu ; Y relu               |0.0001         |1000   |100    |0.2        |41%  | 348   ||\n",
    "| X relu; 50  relu ; 10 relu ; Y relu               |0.0001         |1000   |100    |0.2        |41%  | 352   ||\n",
    "| X relu; 20  relu ; 10 relu ; 5 relu; Y relu       |0.001          |1000   |100    |0.2        |43%  | 336   ||\n",
    "| X relu; 20  relu ; 10 relu ; 5 relu; Y relu       |0.0001         |1000   |100    |0.2        |44%  | 354   ||\n",
    "| X relu; 50 relu ; 30 relu ; 10 relu; Y relu       |0.0001         |100    |20     |0.2        |46%  | 362   |Cras/1000 Wind/10 Diesel/2|\n",
    "| X relu; 100 sigm ; 30 sigm ; 10 sigm; Y relu      |10.0           |100    |10     |0.2        |56%  | 766   |Cras/1000 Wind/10 Diesel/2|\n"
   ]
  }
 ],
 "metadata": {
  "interpreter": {
   "hash": "21b04b269d3888ae5371c7d51bca3c39ab56825f2cb8300390c48bd66afc6017"
  },
  "kernelspec": {
   "display_name": "Python 3.9.9 64-bit (windows store)",
   "language": "python",
   "name": "python3"
  },
  "language_info": {
   "codemirror_mode": {
    "name": "ipython",
    "version": 3
   },
   "file_extension": ".py",
   "mimetype": "text/x-python",
   "name": "python",
   "nbconvert_exporter": "python",
   "pygments_lexer": "ipython3",
   "version": "3.9.9"
  },
  "orig_nbformat": 4
 },
 "nbformat": 4,
 "nbformat_minor": 2
}
