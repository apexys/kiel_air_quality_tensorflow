{
 "cells": [
  {
   "cell_type": "code",
   "execution_count": 2,
   "id": "a175a653-a93d-4295-9dab-db1d5d70759a",
   "metadata": {},
   "outputs": [
    {
     "data": {
      "text/html": [
       "<div>\n",
       "<style scoped>\n",
       "    .dataframe tbody tr th:only-of-type {\n",
       "        vertical-align: middle;\n",
       "    }\n",
       "\n",
       "    .dataframe tbody tr th {\n",
       "        vertical-align: top;\n",
       "    }\n",
       "\n",
       "    .dataframe thead th {\n",
       "        text-align: right;\n",
       "    }\n",
       "</style>\n",
       "<table border=\"1\" class=\"dataframe\">\n",
       "  <thead>\n",
       "    <tr style=\"text-align: right;\">\n",
       "      <th></th>\n",
       "      <th>NO2-ug-per-m3</th>\n",
       "      <th>Cars-Direction-1</th>\n",
       "      <th>Cars-Direction-2</th>\n",
       "      <th>Cars-Total</th>\n",
       "      <th>Day-Of-Week</th>\n",
       "      <th>Monday</th>\n",
       "      <th>Tuesday</th>\n",
       "      <th>Wednesday</th>\n",
       "      <th>Thursday</th>\n",
       "      <th>Friday</th>\n",
       "      <th>...</th>\n",
       "      <th>Number of vessels</th>\n",
       "      <th>DateTime</th>\n",
       "      <th>DaySin</th>\n",
       "      <th>DayCos</th>\n",
       "      <th>WeekSin</th>\n",
       "      <th>WeekCos</th>\n",
       "      <th>MonthSin</th>\n",
       "      <th>MonthCos</th>\n",
       "      <th>YearSin</th>\n",
       "      <th>YearCos</th>\n",
       "    </tr>\n",
       "    <tr>\n",
       "      <th>DateTime</th>\n",
       "      <th></th>\n",
       "      <th></th>\n",
       "      <th></th>\n",
       "      <th></th>\n",
       "      <th></th>\n",
       "      <th></th>\n",
       "      <th></th>\n",
       "      <th></th>\n",
       "      <th></th>\n",
       "      <th></th>\n",
       "      <th></th>\n",
       "      <th></th>\n",
       "      <th></th>\n",
       "      <th></th>\n",
       "      <th></th>\n",
       "      <th></th>\n",
       "      <th></th>\n",
       "      <th></th>\n",
       "      <th></th>\n",
       "      <th></th>\n",
       "      <th></th>\n",
       "    </tr>\n",
       "  </thead>\n",
       "  <tbody>\n",
       "    <tr>\n",
       "      <th>2019-01-01 00:00:00</th>\n",
       "      <td>19.0</td>\n",
       "      <td>36</td>\n",
       "      <td>62</td>\n",
       "      <td>98</td>\n",
       "      <td>2</td>\n",
       "      <td>0</td>\n",
       "      <td>1</td>\n",
       "      <td>0</td>\n",
       "      <td>0</td>\n",
       "      <td>0</td>\n",
       "      <td>...</td>\n",
       "      <td>6</td>\n",
       "      <td>2019-01-01 00:00:00</td>\n",
       "      <td>0.000000</td>\n",
       "      <td>1.000000</td>\n",
       "      <td>0.781831</td>\n",
       "      <td>0.62349</td>\n",
       "      <td>0.201299</td>\n",
       "      <td>0.97953</td>\n",
       "      <td>0.017213</td>\n",
       "      <td>0.999852</td>\n",
       "    </tr>\n",
       "    <tr>\n",
       "      <th>2019-01-01 01:00:00</th>\n",
       "      <td>11.0</td>\n",
       "      <td>109</td>\n",
       "      <td>112</td>\n",
       "      <td>221</td>\n",
       "      <td>2</td>\n",
       "      <td>0</td>\n",
       "      <td>1</td>\n",
       "      <td>0</td>\n",
       "      <td>0</td>\n",
       "      <td>0</td>\n",
       "      <td>...</td>\n",
       "      <td>4</td>\n",
       "      <td>2019-01-01 01:00:00</td>\n",
       "      <td>0.258819</td>\n",
       "      <td>0.965926</td>\n",
       "      <td>0.781831</td>\n",
       "      <td>0.62349</td>\n",
       "      <td>0.201299</td>\n",
       "      <td>0.97953</td>\n",
       "      <td>0.017213</td>\n",
       "      <td>0.999852</td>\n",
       "    </tr>\n",
       "    <tr>\n",
       "      <th>2019-01-01 02:00:00</th>\n",
       "      <td>9.0</td>\n",
       "      <td>97</td>\n",
       "      <td>60</td>\n",
       "      <td>157</td>\n",
       "      <td>2</td>\n",
       "      <td>0</td>\n",
       "      <td>1</td>\n",
       "      <td>0</td>\n",
       "      <td>0</td>\n",
       "      <td>0</td>\n",
       "      <td>...</td>\n",
       "      <td>2</td>\n",
       "      <td>2019-01-01 02:00:00</td>\n",
       "      <td>0.500000</td>\n",
       "      <td>0.866025</td>\n",
       "      <td>0.781831</td>\n",
       "      <td>0.62349</td>\n",
       "      <td>0.201299</td>\n",
       "      <td>0.97953</td>\n",
       "      <td>0.017213</td>\n",
       "      <td>0.999852</td>\n",
       "    </tr>\n",
       "    <tr>\n",
       "      <th>2019-01-01 03:00:00</th>\n",
       "      <td>7.0</td>\n",
       "      <td>60</td>\n",
       "      <td>44</td>\n",
       "      <td>104</td>\n",
       "      <td>2</td>\n",
       "      <td>0</td>\n",
       "      <td>1</td>\n",
       "      <td>0</td>\n",
       "      <td>0</td>\n",
       "      <td>0</td>\n",
       "      <td>...</td>\n",
       "      <td>4</td>\n",
       "      <td>2019-01-01 03:00:00</td>\n",
       "      <td>0.707107</td>\n",
       "      <td>0.707107</td>\n",
       "      <td>0.781831</td>\n",
       "      <td>0.62349</td>\n",
       "      <td>0.201299</td>\n",
       "      <td>0.97953</td>\n",
       "      <td>0.017213</td>\n",
       "      <td>0.999852</td>\n",
       "    </tr>\n",
       "    <tr>\n",
       "      <th>2019-01-01 04:00:00</th>\n",
       "      <td>8.0</td>\n",
       "      <td>44</td>\n",
       "      <td>33</td>\n",
       "      <td>77</td>\n",
       "      <td>2</td>\n",
       "      <td>0</td>\n",
       "      <td>1</td>\n",
       "      <td>0</td>\n",
       "      <td>0</td>\n",
       "      <td>0</td>\n",
       "      <td>...</td>\n",
       "      <td>3</td>\n",
       "      <td>2019-01-01 04:00:00</td>\n",
       "      <td>0.866025</td>\n",
       "      <td>0.500000</td>\n",
       "      <td>0.781831</td>\n",
       "      <td>0.62349</td>\n",
       "      <td>0.201299</td>\n",
       "      <td>0.97953</td>\n",
       "      <td>0.017213</td>\n",
       "      <td>0.999852</td>\n",
       "    </tr>\n",
       "  </tbody>\n",
       "</table>\n",
       "<p>5 rows × 43 columns</p>\n",
       "</div>"
      ],
      "text/plain": [
       "                     NO2-ug-per-m3  Cars-Direction-1  Cars-Direction-2  \\\n",
       "DateTime                                                                 \n",
       "2019-01-01 00:00:00           19.0                36                62   \n",
       "2019-01-01 01:00:00           11.0               109               112   \n",
       "2019-01-01 02:00:00            9.0                97                60   \n",
       "2019-01-01 03:00:00            7.0                60                44   \n",
       "2019-01-01 04:00:00            8.0                44                33   \n",
       "\n",
       "                     Cars-Total  Day-Of-Week  Monday  Tuesday  Wednesday  \\\n",
       "DateTime                                                                   \n",
       "2019-01-01 00:00:00          98            2       0        1          0   \n",
       "2019-01-01 01:00:00         221            2       0        1          0   \n",
       "2019-01-01 02:00:00         157            2       0        1          0   \n",
       "2019-01-01 03:00:00         104            2       0        1          0   \n",
       "2019-01-01 04:00:00          77            2       0        1          0   \n",
       "\n",
       "                     Thursday  Friday  ...  Number of vessels  \\\n",
       "DateTime                               ...                      \n",
       "2019-01-01 00:00:00         0       0  ...                  6   \n",
       "2019-01-01 01:00:00         0       0  ...                  4   \n",
       "2019-01-01 02:00:00         0       0  ...                  2   \n",
       "2019-01-01 03:00:00         0       0  ...                  4   \n",
       "2019-01-01 04:00:00         0       0  ...                  3   \n",
       "\n",
       "                                DateTime    DaySin    DayCos   WeekSin  \\\n",
       "DateTime                                                                 \n",
       "2019-01-01 00:00:00  2019-01-01 00:00:00  0.000000  1.000000  0.781831   \n",
       "2019-01-01 01:00:00  2019-01-01 01:00:00  0.258819  0.965926  0.781831   \n",
       "2019-01-01 02:00:00  2019-01-01 02:00:00  0.500000  0.866025  0.781831   \n",
       "2019-01-01 03:00:00  2019-01-01 03:00:00  0.707107  0.707107  0.781831   \n",
       "2019-01-01 04:00:00  2019-01-01 04:00:00  0.866025  0.500000  0.781831   \n",
       "\n",
       "                     WeekCos  MonthSin  MonthCos   YearSin   YearCos  \n",
       "DateTime                                                              \n",
       "2019-01-01 00:00:00  0.62349  0.201299   0.97953  0.017213  0.999852  \n",
       "2019-01-01 01:00:00  0.62349  0.201299   0.97953  0.017213  0.999852  \n",
       "2019-01-01 02:00:00  0.62349  0.201299   0.97953  0.017213  0.999852  \n",
       "2019-01-01 03:00:00  0.62349  0.201299   0.97953  0.017213  0.999852  \n",
       "2019-01-01 04:00:00  0.62349  0.201299   0.97953  0.017213  0.999852  \n",
       "\n",
       "[5 rows x 43 columns]"
      ]
     },
     "execution_count": 2,
     "metadata": {},
     "output_type": "execute_result"
    }
   ],
   "source": [
    "import pandas as pd\n",
    "import numpy as np\n",
    "import matplotlib.pyplot as plt\n",
    "# read csv\n",
    "data = pd.read_csv(\"./../../datasets/All.csv\")\n",
    "data.index = pd.DatetimeIndex(data.DateTime)\n",
    "data.head()"
   ]
  },
  {
   "cell_type": "code",
   "execution_count": 3,
   "id": "dbae8d43-4f83-4b37-98ed-ea9cb8e65f58",
   "metadata": {},
   "outputs": [
    {
     "data": {
      "text/plain": [
       "((8052, 3), (8052,))"
      ]
     },
     "execution_count": 3,
     "metadata": {},
     "output_type": "execute_result"
    }
   ],
   "source": [
    "X = data[[\"Cars-Total\", \"diesel\", \"wind_meters_per_second\"]].to_numpy()\n",
    "Y = data[\"NO2-ug-per-m3\"].to_numpy()\n",
    "(X.shape, Y.shape)"
   ]
  },
  {
   "cell_type": "code",
   "execution_count": 4,
   "id": "db471abb-334c-4a36-9ac5-03d4b2e7d69e",
   "metadata": {},
   "outputs": [
    {
     "data": {
      "text/plain": [
       "1691"
      ]
     },
     "metadata": {},
     "output_type": "display_data"
    },
    {
     "data": {
      "text/plain": [
       "1.413516129"
      ]
     },
     "metadata": {},
     "output_type": "display_data"
    },
    {
     "data": {
      "text/plain": [
       "13.9"
      ]
     },
     "metadata": {},
     "output_type": "display_data"
    },
    {
     "data": {
      "text/plain": [
       "99.0"
      ]
     },
     "metadata": {},
     "output_type": "display_data"
    }
   ],
   "source": [
    "display(data[\"Cars-Total\"].max())\n",
    "display(data[\"diesel\"].max())\n",
    "display(data[\"wind_meters_per_second\"].max())\n",
    "display(data[\"NO2-ug-per-m3\"].max())"
   ]
  },
  {
   "cell_type": "code",
   "execution_count": 5,
   "id": "8169a003-325c-4ddc-8c13-1f566480f3e7",
   "metadata": {},
   "outputs": [],
   "source": [
    "x_scale_factors = [1000.0, 10.0, 10.0]\n",
    "y_scale_factor = 100.0\n",
    "\n",
    "X[:, 0] /= x_scale_factors[0]\n",
    "X[:, 1] /= x_scale_factors[1]\n",
    "X[:, 2] /= x_scale_factors[2]\n",
    "Y = Y / y_scale_factor"
   ]
  },
  {
   "cell_type": "code",
   "execution_count": 7,
   "id": "eeb9277f-2924-482f-a92b-06cb72ae7ac0",
   "metadata": {},
   "outputs": [
    {
     "name": "stdout",
     "output_type": "stream",
     "text": [
      "TensorFlow version: 2.3.0\n",
      "Epoch 1/10\n",
      "101/101 [==============================] - 0s 3ms/step - loss: 0.1223 - mean_absolute_error: 0.2737 - val_loss: 0.0415 - val_mean_absolute_error: 0.1710\n",
      "Epoch 2/10\n",
      "101/101 [==============================] - 0s 1ms/step - loss: 0.0466 - mean_absolute_error: 0.1800 - val_loss: 0.0351 - val_mean_absolute_error: 0.1579\n",
      "Epoch 3/10\n",
      "101/101 [==============================] - 0s 1ms/step - loss: 0.0423 - mean_absolute_error: 0.1715 - val_loss: 0.0284 - val_mean_absolute_error: 0.1386\n",
      "Epoch 4/10\n",
      "101/101 [==============================] - 0s 1ms/step - loss: 0.0397 - mean_absolute_error: 0.1648 - val_loss: 0.0260 - val_mean_absolute_error: 0.1312\n",
      "Epoch 5/10\n",
      "101/101 [==============================] - 0s 1ms/step - loss: 0.0378 - mean_absolute_error: 0.1599 - val_loss: 0.0247 - val_mean_absolute_error: 0.1282\n",
      "Epoch 6/10\n",
      "101/101 [==============================] - 0s 1ms/step - loss: 0.0366 - mean_absolute_error: 0.1560 - val_loss: 0.0236 - val_mean_absolute_error: 0.1242\n",
      "Epoch 7/10\n",
      "101/101 [==============================] - 0s 1ms/step - loss: 0.0359 - mean_absolute_error: 0.1543 - val_loss: 0.0228 - val_mean_absolute_error: 0.1184\n",
      "Epoch 8/10\n",
      "101/101 [==============================] - 0s 1ms/step - loss: 0.0356 - mean_absolute_error: 0.1533 - val_loss: 0.0228 - val_mean_absolute_error: 0.1209\n",
      "Epoch 9/10\n",
      "101/101 [==============================] - 0s 1ms/step - loss: 0.0354 - mean_absolute_error: 0.1527 - val_loss: 0.0229 - val_mean_absolute_error: 0.1197\n",
      "Epoch 10/10\n",
      "101/101 [==============================] - 0s 1ms/step - loss: 0.0354 - mean_absolute_error: 0.1526 - val_loss: 0.0227 - val_mean_absolute_error: 0.1203\n"
     ]
    },
    {
     "data": {
      "text/plain": [
       "<tensorflow.python.keras.callbacks.History at 0x24027336700>"
      ]
     },
     "execution_count": 7,
     "metadata": {},
     "output_type": "execute_result"
    }
   ],
   "source": [
    "from tensorflow.keras.layers import Dense\n",
    "import tensorflow as tf\n",
    "from tensorflow.keras import Model\n",
    "\n",
    "print(\"TensorFlow version:\", tf.__version__)\n",
    "\n",
    "model = tf.keras.Sequential()\n",
    "for i in range(2):\n",
    "    model.add(Dense(10, activation='relu'))\n",
    "model.add(Dense(1, activation=\"linear\"))\n",
    "\n",
    "model.add(tf.keras.layers.Dense(1))\n",
    "model.compile(optimizer='adam', loss='mse', metrics=['mean_absolute_error'])\n",
    "model.fit(X, Y, batch_size=64, epochs=10, validation_split=0.2)\n",
    "\n"
   ]
  }
 ],
 "metadata": {
  "kernelspec": {
   "display_name": "Python 3 (ipykernel)",
   "language": "python",
   "name": "python3"
  },
  "language_info": {
   "codemirror_mode": {
    "name": "ipython",
    "version": 3
   },
   "file_extension": ".py",
   "mimetype": "text/x-python",
   "name": "python",
   "nbconvert_exporter": "python",
   "pygments_lexer": "ipython3",
   "version": "3.8.12"
  }
 },
 "nbformat": 4,
 "nbformat_minor": 5
}
