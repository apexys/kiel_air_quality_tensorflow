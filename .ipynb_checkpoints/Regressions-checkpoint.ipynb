{
 "cells": [
  {
   "cell_type": "code",
   "execution_count": 1,
   "id": "491b39d3-b427-44ef-a638-6471b153fcc1",
   "metadata": {},
   "outputs": [
    {
     "data": {
      "text/html": [
       "<div>\n",
       "<style scoped>\n",
       "    .dataframe tbody tr th:only-of-type {\n",
       "        vertical-align: middle;\n",
       "    }\n",
       "\n",
       "    .dataframe tbody tr th {\n",
       "        vertical-align: top;\n",
       "    }\n",
       "\n",
       "    .dataframe thead th {\n",
       "        text-align: right;\n",
       "    }\n",
       "</style>\n",
       "<table border=\"1\" class=\"dataframe\">\n",
       "  <thead>\n",
       "    <tr style=\"text-align: right;\">\n",
       "      <th></th>\n",
       "      <th>Cars-Direction-1</th>\n",
       "      <th>Cars-Direction-2</th>\n",
       "      <th>Cars-Total</th>\n",
       "      <th>Day-Of-Week</th>\n",
       "      <th>wind_meters_per_second</th>\n",
       "      <th>rain_millimeters</th>\n",
       "      <th>did_it_rain</th>\n",
       "      <th>air_temp_deg_c</th>\n",
       "      <th>relative_humidity_percent</th>\n",
       "      <th>e5</th>\n",
       "      <th>e10</th>\n",
       "      <th>diesel</th>\n",
       "      <th>DateTime</th>\n",
       "      <th>NO2</th>\n",
       "    </tr>\n",
       "    <tr>\n",
       "      <th>DateTime</th>\n",
       "      <th></th>\n",
       "      <th></th>\n",
       "      <th></th>\n",
       "      <th></th>\n",
       "      <th></th>\n",
       "      <th></th>\n",
       "      <th></th>\n",
       "      <th></th>\n",
       "      <th></th>\n",
       "      <th></th>\n",
       "      <th></th>\n",
       "      <th></th>\n",
       "      <th></th>\n",
       "      <th></th>\n",
       "    </tr>\n",
       "  </thead>\n",
       "  <tbody>\n",
       "    <tr>\n",
       "      <th>2019-01-02 04:00:00</th>\n",
       "      <td>11</td>\n",
       "      <td>8</td>\n",
       "      <td>19</td>\n",
       "      <td>3</td>\n",
       "      <td>7.5</td>\n",
       "      <td>0.0</td>\n",
       "      <td>0</td>\n",
       "      <td>3.5</td>\n",
       "      <td>67.0</td>\n",
       "      <td>1.399000</td>\n",
       "      <td>1.379000</td>\n",
       "      <td>1.289000</td>\n",
       "      <td>2019-01-02 04:00:00</td>\n",
       "      <td>11</td>\n",
       "    </tr>\n",
       "    <tr>\n",
       "      <th>2019-01-02 05:00:00</th>\n",
       "      <td>30</td>\n",
       "      <td>40</td>\n",
       "      <td>70</td>\n",
       "      <td>3</td>\n",
       "      <td>6.6</td>\n",
       "      <td>0.0</td>\n",
       "      <td>0</td>\n",
       "      <td>3.8</td>\n",
       "      <td>62.0</td>\n",
       "      <td>1.404529</td>\n",
       "      <td>1.379118</td>\n",
       "      <td>1.265706</td>\n",
       "      <td>2019-01-02 05:00:00</td>\n",
       "      <td>25</td>\n",
       "    </tr>\n",
       "    <tr>\n",
       "      <th>2019-01-02 06:00:00</th>\n",
       "      <td>137</td>\n",
       "      <td>76</td>\n",
       "      <td>213</td>\n",
       "      <td>3</td>\n",
       "      <td>9.1</td>\n",
       "      <td>0.0</td>\n",
       "      <td>0</td>\n",
       "      <td>3.9</td>\n",
       "      <td>57.0</td>\n",
       "      <td>1.394352</td>\n",
       "      <td>1.372944</td>\n",
       "      <td>1.248014</td>\n",
       "      <td>2019-01-02 06:00:00</td>\n",
       "      <td>65</td>\n",
       "    </tr>\n",
       "    <tr>\n",
       "      <th>2019-01-02 07:00:00</th>\n",
       "      <td>266</td>\n",
       "      <td>198</td>\n",
       "      <td>464</td>\n",
       "      <td>3</td>\n",
       "      <td>9.8</td>\n",
       "      <td>0.0</td>\n",
       "      <td>0</td>\n",
       "      <td>3.9</td>\n",
       "      <td>52.0</td>\n",
       "      <td>1.383038</td>\n",
       "      <td>1.355538</td>\n",
       "      <td>1.234577</td>\n",
       "      <td>2019-01-02 07:00:00</td>\n",
       "      <td>71</td>\n",
       "    </tr>\n",
       "    <tr>\n",
       "      <th>2019-01-02 08:00:00</th>\n",
       "      <td>394</td>\n",
       "      <td>252</td>\n",
       "      <td>646</td>\n",
       "      <td>3</td>\n",
       "      <td>9.9</td>\n",
       "      <td>0.0</td>\n",
       "      <td>0</td>\n",
       "      <td>3.7</td>\n",
       "      <td>54.0</td>\n",
       "      <td>1.373588</td>\n",
       "      <td>1.347706</td>\n",
       "      <td>1.228059</td>\n",
       "      <td>2019-01-02 08:00:00</td>\n",
       "      <td>70</td>\n",
       "    </tr>\n",
       "  </tbody>\n",
       "</table>\n",
       "</div>"
      ],
      "text/plain": [
       "                     Cars-Direction-1  Cars-Direction-2  Cars-Total  \\\n",
       "DateTime                                                              \n",
       "2019-01-02 04:00:00                11                 8          19   \n",
       "2019-01-02 05:00:00                30                40          70   \n",
       "2019-01-02 06:00:00               137                76         213   \n",
       "2019-01-02 07:00:00               266               198         464   \n",
       "2019-01-02 08:00:00               394               252         646   \n",
       "\n",
       "                     Day-Of-Week  wind_meters_per_second  rain_millimeters  \\\n",
       "DateTime                                                                     \n",
       "2019-01-02 04:00:00            3                     7.5               0.0   \n",
       "2019-01-02 05:00:00            3                     6.6               0.0   \n",
       "2019-01-02 06:00:00            3                     9.1               0.0   \n",
       "2019-01-02 07:00:00            3                     9.8               0.0   \n",
       "2019-01-02 08:00:00            3                     9.9               0.0   \n",
       "\n",
       "                     did_it_rain  air_temp_deg_c  relative_humidity_percent  \\\n",
       "DateTime                                                                      \n",
       "2019-01-02 04:00:00            0             3.5                       67.0   \n",
       "2019-01-02 05:00:00            0             3.8                       62.0   \n",
       "2019-01-02 06:00:00            0             3.9                       57.0   \n",
       "2019-01-02 07:00:00            0             3.9                       52.0   \n",
       "2019-01-02 08:00:00            0             3.7                       54.0   \n",
       "\n",
       "                           e5       e10    diesel            DateTime  NO2  \n",
       "DateTime                                                                    \n",
       "2019-01-02 04:00:00  1.399000  1.379000  1.289000 2019-01-02 04:00:00   11  \n",
       "2019-01-02 05:00:00  1.404529  1.379118  1.265706 2019-01-02 05:00:00   25  \n",
       "2019-01-02 06:00:00  1.394352  1.372944  1.248014 2019-01-02 06:00:00   65  \n",
       "2019-01-02 07:00:00  1.383038  1.355538  1.234577 2019-01-02 07:00:00   71  \n",
       "2019-01-02 08:00:00  1.373588  1.347706  1.228059 2019-01-02 08:00:00   70  "
      ]
     },
     "execution_count": 1,
     "metadata": {},
     "output_type": "execute_result"
    }
   ],
   "source": [
    "import pandas as pd\n",
    "import numpy as np\n",
    "import matplotlib.pyplot as plt\n",
    "# read csv\n",
    "data = pd.read_csv(\"b76-joined.csv\")\n",
    "# convert dates\n",
    "data[\"Hour\"] = data[\"Hour\"].astype(\"str\")\n",
    "data[\"DateTime\"] = pd.to_datetime(data[\"Date\"] + \" \" + data[\"Hour\"] + \":00:00\")\n",
    "del data[\"Hour\"]\n",
    "del data[\"Date\"]\n",
    "# set datetime index\n",
    "data.index = pd.DatetimeIndex(data.DateTime)\n",
    "# fix no2 col\n",
    "data = data[data['NO2-ug-per-m3'].apply(lambda x: x.isnumeric())]\n",
    "data[\"NO2\"] = data[\"NO2-ug-per-m3\"].astype(\"int\")\n",
    "del data[\"NO2-ug-per-m3\"]\n",
    "# fix temp col\n",
    "data = data[data[\"air_temp_deg_c\"] > -500]\n",
    "data.head()"
   ]
  },
  {
   "cell_type": "code",
   "execution_count": 8,
   "id": "f53e3ecb-4416-4bd6-accc-fa0168d1a59c",
   "metadata": {},
   "outputs": [
    {
     "data": {
      "text/plain": [
       "((6504, 3), (6504,))"
      ]
     },
     "execution_count": 8,
     "metadata": {},
     "output_type": "execute_result"
    }
   ],
   "source": [
    "X = data[[\"Cars-Total\", \"diesel\", \"wind_meters_per_second\"]].to_numpy()\n",
    "Y = data[\"NO2\"].to_numpy()\n",
    "(X.shape, Y.shape)"
   ]
  },
  {
   "cell_type": "code",
   "execution_count": 17,
   "id": "2da381c6-654d-43b4-b2fd-6cf2b6c49ca4",
   "metadata": {},
   "outputs": [
    {
     "data": {
      "text/plain": [
       "'Score: (1==perfect)'"
      ]
     },
     "metadata": {},
     "output_type": "display_data"
    },
    {
     "data": {
      "text/plain": [
       "0.3223914809651851"
      ]
     },
     "execution_count": 17,
     "metadata": {},
     "output_type": "execute_result"
    }
   ],
   "source": [
    "from sklearn.linear_model import LinearRegression\n",
    "reg = LinearRegression().fit(X, Y)\n",
    "display(\"Score: (1==perfect)\") # see https://scikit-learn.org/stable/modules/generated/sklearn.linear_model.LinearRegression.html#sklearn.linear_model.LinearRegression.scoreb\n",
    "reg.score(X,Y)"
   ]
  },
  {
   "cell_type": "code",
   "execution_count": 16,
   "id": "753fb70e-794b-4f03-a943-30a9ec96d338",
   "metadata": {},
   "outputs": [
    {
     "name": "stderr",
     "output_type": "stream",
     "text": [
      "C:\\Anaconda\\envs\\tf-gpu\\lib\\site-packages\\sklearn\\linear_model\\_logistic.py:763: ConvergenceWarning: lbfgs failed to converge (status=1):\n",
      "STOP: TOTAL NO. of ITERATIONS REACHED LIMIT.\n",
      "\n",
      "Increase the number of iterations (max_iter) or scale the data as shown in:\n",
      "    https://scikit-learn.org/stable/modules/preprocessing.html\n",
      "Please also refer to the documentation for alternative solver options:\n",
      "    https://scikit-learn.org/stable/modules/linear_model.html#logistic-regression\n",
      "  n_iter_i = _check_optimize_result(\n"
     ]
    },
    {
     "data": {
      "text/plain": [
       "0.03336408364083641"
      ]
     },
     "execution_count": 16,
     "metadata": {},
     "output_type": "execute_result"
    }
   ],
   "source": [
    "from sklearn.linear_model import LogisticRegression\n",
    "reg = LogisticRegression(random_state=0, max_iter=1000).fit(X, Y)\n",
    "reg.score(X,Y)"
   ]
  }
 ],
 "metadata": {
  "kernelspec": {
   "display_name": "Python 3",
   "language": "python",
   "name": "python3"
  },
  "language_info": {
   "codemirror_mode": {
    "name": "ipython",
    "version": 3
   },
   "file_extension": ".py",
   "mimetype": "text/x-python",
   "name": "python",
   "nbconvert_exporter": "python",
   "pygments_lexer": "ipython3",
   "version": "3.9.5"
  }
 },
 "nbformat": 4,
 "nbformat_minor": 5
}
