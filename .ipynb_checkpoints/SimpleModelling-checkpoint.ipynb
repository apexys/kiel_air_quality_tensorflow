{
 "cells": [
  {
   "cell_type": "code",
   "execution_count": 1,
   "id": "a175a653-a93d-4295-9dab-db1d5d70759a",
   "metadata": {},
   "outputs": [
    {
     "data": {
      "text/html": [
       "<div>\n",
       "<style scoped>\n",
       "    .dataframe tbody tr th:only-of-type {\n",
       "        vertical-align: middle;\n",
       "    }\n",
       "\n",
       "    .dataframe tbody tr th {\n",
       "        vertical-align: top;\n",
       "    }\n",
       "\n",
       "    .dataframe thead th {\n",
       "        text-align: right;\n",
       "    }\n",
       "</style>\n",
       "<table border=\"1\" class=\"dataframe\">\n",
       "  <thead>\n",
       "    <tr style=\"text-align: right;\">\n",
       "      <th></th>\n",
       "      <th>Cars-Direction-1</th>\n",
       "      <th>Cars-Direction-2</th>\n",
       "      <th>Cars-Total</th>\n",
       "      <th>Day-Of-Week</th>\n",
       "      <th>wind_meters_per_second</th>\n",
       "      <th>rain_millimeters</th>\n",
       "      <th>did_it_rain</th>\n",
       "      <th>air_temp_deg_c</th>\n",
       "      <th>relative_humidity_percent</th>\n",
       "      <th>e5</th>\n",
       "      <th>e10</th>\n",
       "      <th>diesel</th>\n",
       "      <th>DateTime</th>\n",
       "      <th>NO2</th>\n",
       "    </tr>\n",
       "    <tr>\n",
       "      <th>DateTime</th>\n",
       "      <th></th>\n",
       "      <th></th>\n",
       "      <th></th>\n",
       "      <th></th>\n",
       "      <th></th>\n",
       "      <th></th>\n",
       "      <th></th>\n",
       "      <th></th>\n",
       "      <th></th>\n",
       "      <th></th>\n",
       "      <th></th>\n",
       "      <th></th>\n",
       "      <th></th>\n",
       "      <th></th>\n",
       "    </tr>\n",
       "  </thead>\n",
       "  <tbody>\n",
       "    <tr>\n",
       "      <th>2019-01-02 04:00:00</th>\n",
       "      <td>11</td>\n",
       "      <td>8</td>\n",
       "      <td>19</td>\n",
       "      <td>3</td>\n",
       "      <td>7.5</td>\n",
       "      <td>0.0</td>\n",
       "      <td>0</td>\n",
       "      <td>3.5</td>\n",
       "      <td>67.0</td>\n",
       "      <td>1.399000</td>\n",
       "      <td>1.379000</td>\n",
       "      <td>1.289000</td>\n",
       "      <td>2019-01-02 04:00:00</td>\n",
       "      <td>11</td>\n",
       "    </tr>\n",
       "    <tr>\n",
       "      <th>2019-01-02 05:00:00</th>\n",
       "      <td>30</td>\n",
       "      <td>40</td>\n",
       "      <td>70</td>\n",
       "      <td>3</td>\n",
       "      <td>6.6</td>\n",
       "      <td>0.0</td>\n",
       "      <td>0</td>\n",
       "      <td>3.8</td>\n",
       "      <td>62.0</td>\n",
       "      <td>1.404529</td>\n",
       "      <td>1.379118</td>\n",
       "      <td>1.265706</td>\n",
       "      <td>2019-01-02 05:00:00</td>\n",
       "      <td>25</td>\n",
       "    </tr>\n",
       "    <tr>\n",
       "      <th>2019-01-02 06:00:00</th>\n",
       "      <td>137</td>\n",
       "      <td>76</td>\n",
       "      <td>213</td>\n",
       "      <td>3</td>\n",
       "      <td>9.1</td>\n",
       "      <td>0.0</td>\n",
       "      <td>0</td>\n",
       "      <td>3.9</td>\n",
       "      <td>57.0</td>\n",
       "      <td>1.394352</td>\n",
       "      <td>1.372944</td>\n",
       "      <td>1.248014</td>\n",
       "      <td>2019-01-02 06:00:00</td>\n",
       "      <td>65</td>\n",
       "    </tr>\n",
       "    <tr>\n",
       "      <th>2019-01-02 07:00:00</th>\n",
       "      <td>266</td>\n",
       "      <td>198</td>\n",
       "      <td>464</td>\n",
       "      <td>3</td>\n",
       "      <td>9.8</td>\n",
       "      <td>0.0</td>\n",
       "      <td>0</td>\n",
       "      <td>3.9</td>\n",
       "      <td>52.0</td>\n",
       "      <td>1.383038</td>\n",
       "      <td>1.355538</td>\n",
       "      <td>1.234577</td>\n",
       "      <td>2019-01-02 07:00:00</td>\n",
       "      <td>71</td>\n",
       "    </tr>\n",
       "    <tr>\n",
       "      <th>2019-01-02 08:00:00</th>\n",
       "      <td>394</td>\n",
       "      <td>252</td>\n",
       "      <td>646</td>\n",
       "      <td>3</td>\n",
       "      <td>9.9</td>\n",
       "      <td>0.0</td>\n",
       "      <td>0</td>\n",
       "      <td>3.7</td>\n",
       "      <td>54.0</td>\n",
       "      <td>1.373588</td>\n",
       "      <td>1.347706</td>\n",
       "      <td>1.228059</td>\n",
       "      <td>2019-01-02 08:00:00</td>\n",
       "      <td>70</td>\n",
       "    </tr>\n",
       "  </tbody>\n",
       "</table>\n",
       "</div>"
      ],
      "text/plain": [
       "                     Cars-Direction-1  Cars-Direction-2  Cars-Total  \\\n",
       "DateTime                                                              \n",
       "2019-01-02 04:00:00                11                 8          19   \n",
       "2019-01-02 05:00:00                30                40          70   \n",
       "2019-01-02 06:00:00               137                76         213   \n",
       "2019-01-02 07:00:00               266               198         464   \n",
       "2019-01-02 08:00:00               394               252         646   \n",
       "\n",
       "                     Day-Of-Week  wind_meters_per_second  rain_millimeters  \\\n",
       "DateTime                                                                     \n",
       "2019-01-02 04:00:00            3                     7.5               0.0   \n",
       "2019-01-02 05:00:00            3                     6.6               0.0   \n",
       "2019-01-02 06:00:00            3                     9.1               0.0   \n",
       "2019-01-02 07:00:00            3                     9.8               0.0   \n",
       "2019-01-02 08:00:00            3                     9.9               0.0   \n",
       "\n",
       "                     did_it_rain  air_temp_deg_c  relative_humidity_percent  \\\n",
       "DateTime                                                                      \n",
       "2019-01-02 04:00:00            0             3.5                       67.0   \n",
       "2019-01-02 05:00:00            0             3.8                       62.0   \n",
       "2019-01-02 06:00:00            0             3.9                       57.0   \n",
       "2019-01-02 07:00:00            0             3.9                       52.0   \n",
       "2019-01-02 08:00:00            0             3.7                       54.0   \n",
       "\n",
       "                           e5       e10    diesel            DateTime  NO2  \n",
       "DateTime                                                                    \n",
       "2019-01-02 04:00:00  1.399000  1.379000  1.289000 2019-01-02 04:00:00   11  \n",
       "2019-01-02 05:00:00  1.404529  1.379118  1.265706 2019-01-02 05:00:00   25  \n",
       "2019-01-02 06:00:00  1.394352  1.372944  1.248014 2019-01-02 06:00:00   65  \n",
       "2019-01-02 07:00:00  1.383038  1.355538  1.234577 2019-01-02 07:00:00   71  \n",
       "2019-01-02 08:00:00  1.373588  1.347706  1.228059 2019-01-02 08:00:00   70  "
      ]
     },
     "execution_count": 1,
     "metadata": {},
     "output_type": "execute_result"
    }
   ],
   "source": [
    "import pandas as pd\n",
    "import numpy as np\n",
    "import matplotlib.pyplot as plt\n",
    "# read csv\n",
    "data = pd.read_csv(\"b76-joined.csv\")\n",
    "# convert dates\n",
    "data[\"Hour\"] = data[\"Hour\"].astype(\"str\")\n",
    "data[\"DateTime\"] = pd.to_datetime(data[\"Date\"] + \" \" + data[\"Hour\"] + \":00:00\")\n",
    "del data[\"Hour\"]\n",
    "del data[\"Date\"]\n",
    "# set datetime index\n",
    "data.index = pd.DatetimeIndex(data.DateTime)\n",
    "# fix no2 col\n",
    "data = data[data['NO2-ug-per-m3'].apply(lambda x: x.isnumeric())]\n",
    "data[\"NO2\"] = data[\"NO2-ug-per-m3\"].astype(\"int\")\n",
    "del data[\"NO2-ug-per-m3\"]\n",
    "# fix temp col\n",
    "data = data[data[\"air_temp_deg_c\"] > -500]\n",
    "data.head()"
   ]
  },
  {
   "cell_type": "code",
   "execution_count": 2,
   "id": "dbae8d43-4f83-4b37-98ed-ea9cb8e65f58",
   "metadata": {},
   "outputs": [
    {
     "data": {
      "text/plain": [
       "((6504, 3), (6504,))"
      ]
     },
     "execution_count": 2,
     "metadata": {},
     "output_type": "execute_result"
    }
   ],
   "source": [
    "X = data[[\"Cars-Total\", \"diesel\", \"wind_meters_per_second\"]].to_numpy()\n",
    "Y = data[\"NO2\"].to_numpy()\n",
    "(X.shape, Y.shape)"
   ]
  },
  {
   "cell_type": "code",
   "execution_count": 3,
   "id": "db471abb-334c-4a36-9ac5-03d4b2e7d69e",
   "metadata": {},
   "outputs": [
    {
     "data": {
      "text/plain": [
       "1691"
      ]
     },
     "metadata": {},
     "output_type": "display_data"
    },
    {
     "data": {
      "text/plain": [
       "1.41351612903226"
      ]
     },
     "metadata": {},
     "output_type": "display_data"
    },
    {
     "data": {
      "text/plain": [
       "13.9"
      ]
     },
     "metadata": {},
     "output_type": "display_data"
    },
    {
     "data": {
      "text/plain": [
       "99"
      ]
     },
     "metadata": {},
     "output_type": "display_data"
    }
   ],
   "source": [
    "display(data[\"Cars-Total\"].max())\n",
    "display(data[\"diesel\"].max())\n",
    "display(data[\"wind_meters_per_second\"].max())\n",
    "display(data[\"NO2\"].max())"
   ]
  },
  {
   "cell_type": "code",
   "execution_count": 4,
   "id": "8169a003-325c-4ddc-8c13-1f566480f3e7",
   "metadata": {},
   "outputs": [],
   "source": [
    "x_scale_factors = [1000.0, 10.0, 10.0]\n",
    "y_scale_factor = 100.0\n",
    "\n",
    "X[:, 0] /= x_scale_factors[0]\n",
    "X[:, 1] /= x_scale_factors[1]\n",
    "X[:, 2] /= x_scale_factors[2]\n",
    "Y = Y / y_scale_factor"
   ]
  },
  {
   "cell_type": "code",
   "execution_count": 9,
   "id": "eeb9277f-2924-482f-a92b-06cb72ae7ac0",
   "metadata": {},
   "outputs": [
    {
     "name": "stdout",
     "output_type": "stream",
     "text": [
      "TensorFlow version: 2.5.0\n",
      "Epoch 1/10\n",
      "WARNING:tensorflow:Model was constructed with shape (None, None, 3) for input KerasTensor(type_spec=TensorSpec(shape=(None, None, 3), dtype=tf.float32, name='dense_9_input'), name='dense_9_input', description=\"created by layer 'dense_9_input'\"), but it was called on an input with incompatible shape (None, 3).\n",
      "WARNING:tensorflow:Model was constructed with shape (None, None, 3) for input KerasTensor(type_spec=TensorSpec(shape=(None, None, 3), dtype=tf.float32, name='dense_9_input'), name='dense_9_input', description=\"created by layer 'dense_9_input'\"), but it was called on an input with incompatible shape (None, 3).\n",
      "73/82 [=========================>....] - ETA: 0s - loss: 0.2103 - mean_absolute_error: 0.3683WARNING:tensorflow:Model was constructed with shape (None, None, 3) for input KerasTensor(type_spec=TensorSpec(shape=(None, None, 3), dtype=tf.float32, name='dense_9_input'), name='dense_9_input', description=\"created by layer 'dense_9_input'\"), but it was called on an input with incompatible shape (None, 3).\n",
      "82/82 [==============================] - 1s 4ms/step - loss: 0.1952 - mean_absolute_error: 0.3517 - val_loss: 0.0463 - val_mean_absolute_error: 0.1778\n",
      "Epoch 2/10\n",
      "82/82 [==============================] - 0s 3ms/step - loss: 0.0460 - mean_absolute_error: 0.1800 - val_loss: 0.0343 - val_mean_absolute_error: 0.1520\n",
      "Epoch 3/10\n",
      "82/82 [==============================] - 0s 3ms/step - loss: 0.0421 - mean_absolute_error: 0.1719 - val_loss: 0.0330 - val_mean_absolute_error: 0.1492\n",
      "Epoch 4/10\n",
      "82/82 [==============================] - 0s 4ms/step - loss: 0.0412 - mean_absolute_error: 0.1692 - val_loss: 0.0307 - val_mean_absolute_error: 0.1432\n",
      "Epoch 5/10\n",
      "82/82 [==============================] - 0s 4ms/step - loss: 0.0402 - mean_absolute_error: 0.1665 - val_loss: 0.0293 - val_mean_absolute_error: 0.1410\n",
      "Epoch 6/10\n",
      "82/82 [==============================] - 0s 3ms/step - loss: 0.0397 - mean_absolute_error: 0.1652 - val_loss: 0.0276 - val_mean_absolute_error: 0.1333\n",
      "Epoch 7/10\n",
      "82/82 [==============================] - 0s 3ms/step - loss: 0.0395 - mean_absolute_error: 0.1646 - val_loss: 0.0286 - val_mean_absolute_error: 0.1391\n",
      "Epoch 8/10\n",
      "82/82 [==============================] - 0s 3ms/step - loss: 0.0395 - mean_absolute_error: 0.1646 - val_loss: 0.0276 - val_mean_absolute_error: 0.1357\n",
      "Epoch 9/10\n",
      "82/82 [==============================] - 0s 3ms/step - loss: 0.0394 - mean_absolute_error: 0.1640 - val_loss: 0.0268 - val_mean_absolute_error: 0.1326\n",
      "Epoch 10/10\n",
      "82/82 [==============================] - 0s 3ms/step - loss: 0.0392 - mean_absolute_error: 0.1639 - val_loss: 0.0272 - val_mean_absolute_error: 0.1347\n"
     ]
    },
    {
     "data": {
      "text/plain": [
       "<tensorflow.python.keras.callbacks.History at 0x1ff44491d30>"
      ]
     },
     "execution_count": 9,
     "metadata": {},
     "output_type": "execute_result"
    }
   ],
   "source": [
    "import tensorflow as tf\n",
    "print(\"TensorFlow version:\", tf.__version__)\n",
    "\n",
    "from tensorflow.keras.layers import Dense\n",
    "from tensorflow.keras import Model\n",
    "\n",
    "model = tf.keras.Sequential()\n",
    "for i in range(2):\n",
    "    model.add(Dense(10, activation='relu'))\n",
    "model.add(Dense(1, activation=\"linear\"))\n",
    "\n",
    "model.add(tf.keras.layers.Dense(1))\n",
    "model.compile(optimizer='adam', loss='mse', metrics=['mean_absolute_error'])\n",
    "model.fit(X, Y, batch_size=64, epochs=10, validation_split=0.2)"
   ]
  },
  {
   "cell_type": "code",
   "execution_count": 6,
   "id": "1a43cd03-4333-4a0a-9c68-519d62ea3c18",
   "metadata": {},
   "outputs": [],
   "source": [
    "import tensorflowjs as tfjs\n",
    "\n",
    "tfjs.converters.save_keras_model(model, \"tfjs_model\")"
   ]
  }
 ],
 "metadata": {
  "kernelspec": {
   "display_name": "Python 3",
   "language": "python",
   "name": "python3"
  },
  "language_info": {
   "codemirror_mode": {
    "name": "ipython",
    "version": 3
   },
   "file_extension": ".py",
   "mimetype": "text/x-python",
   "name": "python",
   "nbconvert_exporter": "python",
   "pygments_lexer": "ipython3",
   "version": "3.9.5"
  }
 },
 "nbformat": 4,
 "nbformat_minor": 5
}
